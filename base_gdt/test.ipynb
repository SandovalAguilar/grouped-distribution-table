{
 "cells": [
  {
   "cell_type": "code",
   "execution_count": 6,
   "metadata": {},
   "outputs": [
    {
     "ename": "ModuleNotFoundError",
     "evalue": "No module named 'measures'",
     "output_type": "error",
     "traceback": [
      "\u001b[0;31m---------------------------------------------------------------------------\u001b[0m",
      "\u001b[0;31mModuleNotFoundError\u001b[0m                       Traceback (most recent call last)",
      "Cell \u001b[0;32mIn[6], line 5\u001b[0m\n\u001b[1;32m      3\u001b[0m grouped_table \u001b[39m=\u001b[39m gdt\u001b[39m.\u001b[39mgroupedTable(\u001b[39m'\u001b[39m\u001b[39mTabla\u001b[39m\u001b[39m'\u001b[39m, \u001b[39m'\u001b[39m\u001b[39mmujeres.csv\u001b[39m\u001b[39m'\u001b[39m)\n\u001b[1;32m      4\u001b[0m \u001b[39m#grouped_table.generate_table()\u001b[39;00m\n\u001b[0;32m----> 5\u001b[0m grouped_table\u001b[39m.\u001b[39;49mcalculate_grouped_mean()\n",
      "File \u001b[0;32m~/grouped-distribution-table/base_gdt/grouped_distribution_table/table.py:132\u001b[0m, in \u001b[0;36mgroupedTable.calculate_grouped_mean\u001b[0;34m(self)\u001b[0m\n\u001b[1;32m    131\u001b[0m \u001b[39mdef\u001b[39;00m \u001b[39mcalculate_grouped_mean\u001b[39m(\u001b[39mself\u001b[39m):\n\u001b[0;32m--> 132\u001b[0m     \u001b[39mfrom\u001b[39;00m \u001b[39mmeasures\u001b[39;00m\u001b[39m.\u001b[39;00m\u001b[39mcentral_measures\u001b[39;00m \u001b[39mimport\u001b[39;00m calculate_grouped_mean\n\u001b[1;32m    134\u001b[0m     \u001b[39mreturn\u001b[39;00m calculate_grouped_mean(\u001b[39mself\u001b[39m)\n",
      "\u001b[0;31mModuleNotFoundError\u001b[0m: No module named 'measures'"
     ]
    }
   ],
   "source": [
    "import grouped_distribution_table as gdt\n",
    "\n",
    "grouped_table = gdt.groupedTable('Tabla', 'mujeres.csv')\n",
    "#grouped_table.generate_table()\n",
    "grouped_table.calculate_grouped_mean()"
   ]
  }
 ],
 "metadata": {
  "kernelspec": {
   "display_name": "Python 3",
   "language": "python",
   "name": "python3"
  },
  "language_info": {
   "codemirror_mode": {
    "name": "ipython",
    "version": 3
   },
   "file_extension": ".py",
   "mimetype": "text/x-python",
   "name": "python",
   "nbconvert_exporter": "python",
   "pygments_lexer": "ipython3",
   "version": "3.10.6"
  },
  "orig_nbformat": 4
 },
 "nbformat": 4,
 "nbformat_minor": 2
}
