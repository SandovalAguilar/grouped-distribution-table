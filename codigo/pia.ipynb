{
 "cells": [
  {
   "cell_type": "code",
   "execution_count": 59,
   "metadata": {},
   "outputs": [],
   "source": [
    "# Librerias\n",
    "import pandas as pd\n",
    "import numpy as np\n",
    "import re"
   ]
  },
  {
   "cell_type": "code",
   "execution_count": 60,
   "metadata": {},
   "outputs": [],
   "source": [
    "# Dataset\n",
    "df = pd.read_csv('hombres.csv')\n",
    "#df = pd.read_csv('mujeres.csv')"
   ]
  },
  {
   "attachments": {},
   "cell_type": "markdown",
   "metadata": {},
   "source": [
    "#### Variables globales"
   ]
  },
  {
   "cell_type": "code",
   "execution_count": 61,
   "metadata": {},
   "outputs": [],
   "source": [
    "# Rango y numero de elementos\n",
    "rango = df.max() - df.min()\n",
    "n = df.shape[0]\n",
    "\n",
    "nombre_columna = df.columns[0]\n",
    "\n",
    "# Numero de clases\n",
    "if n < 30:\n",
    "    numero_clases = int(np.ceil(np.sqrt(n)))\n",
    "else:\n",
    "    numero_clases = int(np.ceil(1 + (3.322 * np.log10(n))))\n",
    "\n",
    "# Amplitud\n",
    "amplitud = rango / numero_clases"
   ]
  },
  {
   "attachments": {},
   "cell_type": "markdown",
   "metadata": {},
   "source": [
    "#### Funciones por hacer"
   ]
  },
  {
   "cell_type": "code",
   "execution_count": 62,
   "metadata": {},
   "outputs": [],
   "source": [
    "# Funcion para obtener la media\n",
    "def media_agrupada(tabla_frecuencias, n):\n",
    "    tabla_frecuencias['x_i * f_i'] = tabla_frecuencias['Marca de clase'] * tabla_frecuencias['Frecuencia absoluta']\n",
    "    sum_xifi = float(tabla_frecuencias['x_i * f_i'].sum())\n",
    "    media_agrupada = sum_xifi / n\n",
    "    return media_agrupada"
   ]
  },
  {
   "cell_type": "code",
   "execution_count": 63,
   "metadata": {},
   "outputs": [],
   "source": [
    "# Funcion para obtener la clase a la que pertenece la moda\n",
    "def moda_clase(tabla_frecuencias):\n",
    "    clase = 0\n",
    "    frecuencia_mayor = tabla_frecuencias['Frecuencia absoluta'].max()\n",
    "\n",
    "    for i in tabla_frecuencias['Frecuencia absoluta']:\n",
    "            clase += 1\n",
    "            if i == frecuencia_mayor:\n",
    "                return clase\n",
    "\n",
    "# Funcion para obtener la moda\n",
    "def moda_agrupada(moda_clase, amplitud, tabla_frecuencias, intervalos_float):\n",
    "    limite_inferior = min(intervalos_float[moda_clase - 1]) \n",
    "    delta_1 = tabla_frecuencias['Frecuencia absoluta'].iloc[moda_clase - 1] - tabla_frecuencias['Frecuencia absoluta'].iloc[moda_clase - 2]\n",
    "    delta_2 = tabla_frecuencias['Frecuencia absoluta'].iloc[moda_clase - 1] - tabla_frecuencias['Frecuencia absoluta'].iloc[moda_clase]\n",
    "    moda_agrupada = limite_inferior + ((delta_1) / (delta_1 + delta_2)) * amplitud\n",
    "    return moda_agrupada"
   ]
  },
  {
   "cell_type": "code",
   "execution_count": 64,
   "metadata": {},
   "outputs": [],
   "source": [
    "# Funcion para la posicion de la clase en la que se encuentra la mediana\n",
    "def mediana_clase(n, tabla_frecuencias):\n",
    "    posicion = (n + 1) / 2\n",
    "    clase = 0\n",
    "\n",
    "    posicion_clase = next((clase + 1 for clase, frecuencia_acumulada in enumerate(tabla_frecuencias['Frecuencia acumulada']) if frecuencia_acumulada>=posicion), None)\n",
    "    \n",
    "    return posicion_clase\n",
    "\n",
    "# Funcion para obtener la mediana\n",
    "def mediana_agrupada(mediana_clase, amplitud, tabla_frecuencias, intervalos_float):\n",
    "    limite_inferior = min(intervalos_float[mediana_clase - 1]) \n",
    "    frec_acum_anterior = tabla_frecuencias['Frecuencia acumulada'].iloc[mediana_clase - 2]\n",
    "    frec_absoluta = tabla_frecuencias['Frecuencia absoluta'].iloc[mediana_clase -1]\n",
    "    mediana_agrupada = limite_inferior + (((n / 2) - frec_acum_anterior) / frec_absoluta ) * amplitud\n",
    "\n",
    "    return mediana_agrupada"
   ]
  },
  {
   "cell_type": "code",
   "execution_count": 65,
   "metadata": {},
   "outputs": [],
   "source": [
    "# Funcion para obtener la varianza\n",
    "def varianza_agrupada(tabla_frecuencias, n, media_agrupada):\n",
    "    tabla_frecuencias['(x_i - \\mu)^2'] = ((tabla_frecuencias['Marca de clase'] - media_agrupada) ** 2)\n",
    "    tabla_frecuencias['(x_i - \\mu)^2 * f_i'] = tabla_frecuencias['(x_i - \\mu)^2'] * tabla_frecuencias['Frecuencia absoluta']\n",
    "    sumatoria = tabla_frecuencias['(x_i - \\mu)^2 * f_i'].sum()\n",
    "    varianza_agrupada = (sumatoria) / (n - 1)\n",
    "    return varianza_agrupada"
   ]
  },
  {
   "cell_type": "code",
   "execution_count": 66,
   "metadata": {},
   "outputs": [],
   "source": [
    "# Funcion para obtener el rango\n",
    "def rango_agrupado(tabla_frecuencias):\n",
    "    rango = tabla_frecuencias['Marca de clase'].max() - tabla_frecuencias['Marca de clase'].min()\n",
    "    return rango"
   ]
  },
  {
   "attachments": {},
   "cell_type": "markdown",
   "metadata": {},
   "source": [
    "#### Tabla de datos agrupados"
   ]
  },
  {
   "cell_type": "code",
   "execution_count": 67,
   "metadata": {},
   "outputs": [
    {
     "data": {
      "text/plain": [
       "HOMBRES \n",
       "(55.857, 61.871]     6\n",
       "(61.871, 67.843]    10\n",
       "(67.843, 73.814]    23\n",
       "(73.814, 79.786]     8\n",
       "(79.786, 85.757]     4\n",
       "(85.757, 91.729]     5\n",
       "(91.729, 97.7]       1\n",
       "Name: count, dtype: int64"
      ]
     },
     "execution_count": 67,
     "metadata": {},
     "output_type": "execute_result"
    }
   ],
   "source": [
    "nombre_columna = df.columns[0]\n",
    "clases = df[nombre_columna].value_counts(bins = numero_clases, sort = False)\n",
    "tabla_frecuencias = pd.DataFrame(clases)\n",
    "tabla_frecuencias.rename(columns = {'count':'Frecuencia absoluta'}, inplace = True)\n",
    "tabla_frecuencias\n",
    "clases"
   ]
  },
  {
   "cell_type": "code",
   "execution_count": 68,
   "metadata": {},
   "outputs": [
    {
     "data": {
      "text/plain": [
       "HOMBRES     97.7\n",
       "dtype: float64"
      ]
     },
     "execution_count": 68,
     "metadata": {},
     "output_type": "execute_result"
    }
   ],
   "source": [
    "df[df.columns[0]].values\n",
    "df.max()"
   ]
  },
  {
   "cell_type": "code",
   "execution_count": 69,
   "metadata": {},
   "outputs": [
    {
     "data": {
      "text/plain": [
       "array([[55.9       , 61.87142857],\n",
       "       [61.87142857, 67.84285714],\n",
       "       [67.84285714, 73.81428571],\n",
       "       [73.81428571, 79.78571429],\n",
       "       [79.78571429, 85.75714286],\n",
       "       [85.75714286, 91.72857143],\n",
       "       [91.72857143, 97.7       ]])"
      ]
     },
     "execution_count": 69,
     "metadata": {},
     "output_type": "execute_result"
    }
   ],
   "source": [
    "array_classes = np.empty((numero_clases, 2), dtype=float)\n",
    "array_classes[0][0] = df.min().iloc[0] \n",
    "array_classes[0][1] = df.min().iloc[0] + amplitud.iloc[0]\n",
    "aux_col1 = df.min().iloc[0]\n",
    "aux_col2 = df.min().iloc[0] + amplitud.iloc[0]\n",
    "\n",
    "for i in range(1,numero_clases):\n",
    "    aux_col1 += amplitud\n",
    "    array_classes[i][0] = aux_col1.iloc[0]\n",
    "        \n",
    "for i in range(1,numero_clases):\n",
    "    aux_col2 += amplitud\n",
    "    array_classes[i][1] = aux_col2.iloc[0]\n",
    "\n",
    "array_classes"
   ]
  },
  {
   "cell_type": "code",
   "execution_count": 70,
   "metadata": {},
   "outputs": [
    {
     "name": "stdout",
     "output_type": "stream",
     "text": [
      "[ 6 10 23  8  4  5  1]\n"
     ]
    }
   ],
   "source": [
    "array_abs_freq = np.empty((numero_clases), dtype = int)\n",
    "\n",
    "'''\n",
    "def last_interval(array, interval):\n",
    "\tcounts = 0\n",
    "\tfor i in array:\n",
    "\t\tif np.float32(interval[0]) <= np.float32(i) <= np.float32(interval[1]):\n",
    "\t\t\tcounts += 1\n",
    "\treturn counts\n",
    "'''\n",
    "    \n",
    "def count_range_in_list(array, interval):\n",
    "\tcounts = 0\n",
    "\n",
    "\tfor i in array:\n",
    "\t\tif np.float32(i) != np.float32(array[-1]):\n",
    "\t\t\tif np.float32(interval[0]) <= np.float32(i) < np.float32(interval[1]):\n",
    "\t\t\t\tcounts += 1\n",
    "\t\telse:\n",
    "\t\t\tif np.float32(interval[0]) <= np.float32(i) <= np.float32(interval[1]):\n",
    "\t\t\t\tcounts += 1\n",
    "\n",
    "\treturn counts\n",
    "\n",
    "for i in range(numero_clases):\n",
    "\tarray_abs_freq[i] = count_range_in_list(df[df.columns[0]].values, array_classes[i])\n",
    "\n",
    "#array_abs_freq[-1] = last_interval(df[df.columns[0]].values, array_classes[-1])\n",
    "\n",
    "'''\n",
    "comparison = array_abs_freq == np.array(clases.values)\n",
    "equal_arrays = comparison.all()\n",
    "comparison\n",
    "'''\n",
    "\n",
    "print(array_abs_freq)"
   ]
  },
  {
   "cell_type": "code",
   "execution_count": 71,
   "metadata": {},
   "outputs": [
    {
     "data": {
      "text/html": [
       "<div>\n",
       "<style scoped>\n",
       "    .dataframe tbody tr th:only-of-type {\n",
       "        vertical-align: middle;\n",
       "    }\n",
       "\n",
       "    .dataframe tbody tr th {\n",
       "        vertical-align: top;\n",
       "    }\n",
       "\n",
       "    .dataframe thead th {\n",
       "        text-align: right;\n",
       "    }\n",
       "</style>\n",
       "<table border=\"1\" class=\"dataframe\">\n",
       "  <thead>\n",
       "    <tr style=\"text-align: right;\">\n",
       "      <th></th>\n",
       "      <th>Frecuencia absoluta</th>\n",
       "      <th>Frecuencia acumulada</th>\n",
       "      <th>Frecuencia relativa absoluta</th>\n",
       "      <th>Frecuencia relativa acumulada</th>\n",
       "      <th>Marca de clase</th>\n",
       "      <th>Porcentaje</th>\n",
       "    </tr>\n",
       "    <tr>\n",
       "      <th>HOMBRES</th>\n",
       "      <th></th>\n",
       "      <th></th>\n",
       "      <th></th>\n",
       "      <th></th>\n",
       "      <th></th>\n",
       "      <th></th>\n",
       "    </tr>\n",
       "  </thead>\n",
       "  <tbody>\n",
       "    <tr>\n",
       "      <th>(55.857, 61.871]</th>\n",
       "      <td>6</td>\n",
       "      <td>6</td>\n",
       "      <td>0.105263</td>\n",
       "      <td>0.105263</td>\n",
       "      <td>58.8640</td>\n",
       "      <td>10.526316</td>\n",
       "    </tr>\n",
       "    <tr>\n",
       "      <th>(61.871, 67.843]</th>\n",
       "      <td>10</td>\n",
       "      <td>16</td>\n",
       "      <td>0.175439</td>\n",
       "      <td>0.280702</td>\n",
       "      <td>64.8570</td>\n",
       "      <td>17.543860</td>\n",
       "    </tr>\n",
       "    <tr>\n",
       "      <th>(67.843, 73.814]</th>\n",
       "      <td>23</td>\n",
       "      <td>39</td>\n",
       "      <td>0.403509</td>\n",
       "      <td>0.684211</td>\n",
       "      <td>70.8285</td>\n",
       "      <td>40.350877</td>\n",
       "    </tr>\n",
       "    <tr>\n",
       "      <th>(73.814, 79.786]</th>\n",
       "      <td>8</td>\n",
       "      <td>47</td>\n",
       "      <td>0.140351</td>\n",
       "      <td>0.824561</td>\n",
       "      <td>76.8000</td>\n",
       "      <td>14.035088</td>\n",
       "    </tr>\n",
       "    <tr>\n",
       "      <th>(79.786, 85.757]</th>\n",
       "      <td>4</td>\n",
       "      <td>51</td>\n",
       "      <td>0.070175</td>\n",
       "      <td>0.894737</td>\n",
       "      <td>82.7715</td>\n",
       "      <td>7.017544</td>\n",
       "    </tr>\n",
       "    <tr>\n",
       "      <th>(85.757, 91.729]</th>\n",
       "      <td>5</td>\n",
       "      <td>56</td>\n",
       "      <td>0.087719</td>\n",
       "      <td>0.982456</td>\n",
       "      <td>88.7430</td>\n",
       "      <td>8.771930</td>\n",
       "    </tr>\n",
       "    <tr>\n",
       "      <th>(91.729, 97.7]</th>\n",
       "      <td>1</td>\n",
       "      <td>57</td>\n",
       "      <td>0.017544</td>\n",
       "      <td>1.000000</td>\n",
       "      <td>94.7145</td>\n",
       "      <td>1.754386</td>\n",
       "    </tr>\n",
       "  </tbody>\n",
       "</table>\n",
       "</div>"
      ],
      "text/plain": [
       "                  Frecuencia absoluta  Frecuencia acumulada   \n",
       "HOMBRES                                                       \n",
       "(55.857, 61.871]                    6                     6  \\\n",
       "(61.871, 67.843]                   10                    16   \n",
       "(67.843, 73.814]                   23                    39   \n",
       "(73.814, 79.786]                    8                    47   \n",
       "(79.786, 85.757]                    4                    51   \n",
       "(85.757, 91.729]                    5                    56   \n",
       "(91.729, 97.7]                      1                    57   \n",
       "\n",
       "                  Frecuencia relativa absoluta  Frecuencia relativa acumulada   \n",
       "HOMBRES                                                                         \n",
       "(55.857, 61.871]                      0.105263                       0.105263  \\\n",
       "(61.871, 67.843]                      0.175439                       0.280702   \n",
       "(67.843, 73.814]                      0.403509                       0.684211   \n",
       "(73.814, 79.786]                      0.140351                       0.824561   \n",
       "(79.786, 85.757]                      0.070175                       0.894737   \n",
       "(85.757, 91.729]                      0.087719                       0.982456   \n",
       "(91.729, 97.7]                        0.017544                       1.000000   \n",
       "\n",
       "                  Marca de clase  Porcentaje  \n",
       "HOMBRES                                       \n",
       "(55.857, 61.871]         58.8640   10.526316  \n",
       "(61.871, 67.843]         64.8570   17.543860  \n",
       "(67.843, 73.814]         70.8285   40.350877  \n",
       "(73.814, 79.786]         76.8000   14.035088  \n",
       "(79.786, 85.757]         82.7715    7.017544  \n",
       "(85.757, 91.729]         88.7430    8.771930  \n",
       "(91.729, 97.7]           94.7145    1.754386  "
      ]
     },
     "execution_count": 71,
     "metadata": {},
     "output_type": "execute_result"
    }
   ],
   "source": [
    "# Por terminar, marca de clase, f_i * x_i, ..., optimizar codigo\n",
    "nombre_columna = df.columns[0]\n",
    "clases = df[nombre_columna].value_counts(bins = numero_clases, sort = False)\n",
    "tabla_frecuencias = pd.DataFrame(clases)\n",
    "tabla_frecuencias.rename(columns = {'count':'Frecuencia absoluta'}, inplace = True)\n",
    "frecuencia_acumulada = []\n",
    "acumulador = 0\n",
    "\n",
    "# Columna: frecuencia acumulada\n",
    "for i in tabla_frecuencias.index:\n",
    "    acumulador = acumulador + tabla_frecuencias['Frecuencia absoluta'][i]\n",
    "    frecuencia_acumulada.append(acumulador)\n",
    "\n",
    "# Columnas: f. acumulada y f. relativa\n",
    "tabla_frecuencias['Frecuencia acumulada'] = frecuencia_acumulada\n",
    "tabla_frecuencias['Frecuencia relativa absoluta'] = tabla_frecuencias['Frecuencia absoluta'] / n\n",
    "\n",
    "# Arreglo de intervalos\n",
    "# \"[0-9]+.[0-9]+, [0-9]+.[0-9]+\"gm\n",
    "intervalos_str = []\n",
    "intervalos_float = []\n",
    "marca_clase = []\n",
    "\n",
    "clases_lista = clases.index\n",
    "\n",
    "for i in clases_lista:\n",
    "    matched = re.search(\"[0-9]+.[0-9]+, [0-9]+.[0-9]+\", str(i))\n",
    "    intervalos_str.append(matched.group())\n",
    "    \n",
    "for i in intervalos_str:\n",
    "    intervalos_float.append(i.split(', '))\n",
    "\n",
    "for i in intervalos_float:\n",
    "    for j in i:\n",
    "        j = float(j)\n",
    "\n",
    "intervalos_float = np.array(intervalos_float, dtype = float)\n",
    "\n",
    "for i in intervalos_float:\n",
    "    marca_clase.append(np.sum(i) / 2)\n",
    "\n",
    "# Columna: frecuencia acumulada relativa\n",
    "tabla_frecuencias['Frecuencia relativa acumulada'] = tabla_frecuencias['Frecuencia acumulada'] / n\n",
    "\n",
    "# Columna: marca de clase\n",
    "tabla_frecuencias['Marca de clase'] = marca_clase\n",
    "\n",
    "# Columna: porcentaje\n",
    "tabla_frecuencias['Porcentaje'] = tabla_frecuencias['Frecuencia relativa absoluta'] * 100\n",
    "\n",
    "tabla_frecuencias"
   ]
  },
  {
   "cell_type": "code",
   "execution_count": 72,
   "metadata": {},
   "outputs": [],
   "source": [
    "tabla_frecuencias.to_csv('tabla_frecuencias_' + df.columns[0] + '.csv')"
   ]
  },
  {
   "attachments": {},
   "cell_type": "markdown",
   "metadata": {},
   "source": [
    "#### Funciones test"
   ]
  },
  {
   "cell_type": "code",
   "execution_count": 73,
   "metadata": {},
   "outputs": [
    {
     "name": "stderr",
     "output_type": "stream",
     "text": [
      "/tmp/ipykernel_1909/349951850.py:8: FutureWarning: Calling float on a single element Series is deprecated and will raise a TypeError in the future. Use float(ser.iloc[0]) instead\n",
      "  medidas_arreglo = [media_agrupada, float(mediana_agrupada), float(moda_agrupada), varianza_agrupada, rango_agrupado, float(df.max() - df.min())]\n"
     ]
    },
    {
     "data": {
      "text/html": [
       "<div>\n",
       "<style scoped>\n",
       "    .dataframe tbody tr th:only-of-type {\n",
       "        vertical-align: middle;\n",
       "    }\n",
       "\n",
       "    .dataframe tbody tr th {\n",
       "        vertical-align: top;\n",
       "    }\n",
       "\n",
       "    .dataframe thead th {\n",
       "        text-align: right;\n",
       "    }\n",
       "</style>\n",
       "<table border=\"1\" class=\"dataframe\">\n",
       "  <thead>\n",
       "    <tr style=\"text-align: right;\">\n",
       "      <th></th>\n",
       "      <th>Medidas de tendencia central: hombres</th>\n",
       "    </tr>\n",
       "  </thead>\n",
       "  <tbody>\n",
       "    <tr>\n",
       "      <th>Media</th>\n",
       "      <td>72.188158</td>\n",
       "    </tr>\n",
       "    <tr>\n",
       "      <th>Mediana</th>\n",
       "      <td>71.088342</td>\n",
       "    </tr>\n",
       "    <tr>\n",
       "      <th>Moda</th>\n",
       "      <td>70.615449</td>\n",
       "    </tr>\n",
       "    <tr>\n",
       "      <th>Varianza</th>\n",
       "      <td>73.948367</td>\n",
       "    </tr>\n",
       "    <tr>\n",
       "      <th>Rango</th>\n",
       "      <td>35.850500</td>\n",
       "    </tr>\n",
       "    <tr>\n",
       "      <th>Rango real</th>\n",
       "      <td>41.800000</td>\n",
       "    </tr>\n",
       "  </tbody>\n",
       "</table>\n",
       "</div>"
      ],
      "text/plain": [
       "            Medidas de tendencia central: hombres \n",
       "Media                                    72.188158\n",
       "Mediana                                  71.088342\n",
       "Moda                                     70.615449\n",
       "Varianza                                 73.948367\n",
       "Rango                                    35.850500\n",
       "Rango real                               41.800000"
      ]
     },
     "execution_count": 73,
     "metadata": {},
     "output_type": "execute_result"
    }
   ],
   "source": [
    "rango_agrupado = rango_agrupado(tabla_frecuencias)\n",
    "moda_clase = moda_clase(tabla_frecuencias)\n",
    "moda_agrupada = moda_agrupada(moda_clase, amplitud, tabla_frecuencias, intervalos_float)\n",
    "mediana_clase = mediana_clase(n, tabla_frecuencias)\n",
    "mediana_agrupada = mediana_agrupada(mediana_clase, amplitud, tabla_frecuencias, intervalos_float)\n",
    "media_agrupada = media_agrupada(tabla_frecuencias, n)\n",
    "varianza_agrupada = varianza_agrupada(tabla_frecuencias, n, media_agrupada)\n",
    "medidas_arreglo = [media_agrupada, float(mediana_agrupada), float(moda_agrupada), varianza_agrupada, rango_agrupado, float(df.max() - df.min())]\n",
    "#python_arreglo = [df.columns[0].mean(), df.columns[0].median(), df.columns[0].mode().iloc[0], df.columns[0].var(ddof = 1), 0]\n",
    "\n",
    "medidas_funciones = pd.DataFrame(medidas_arreglo, columns = ['Medidas de tendencia central: ' + df.columns[0].lower()], index = ['Media', 'Mediana', 'Moda', 'Varianza', 'Rango', 'Rango real'])\n",
    "#medidas_python = pd.DataFrame(python_arreglo, columns = ['Valor real'])\n",
    "\n",
    "medidas_funciones"
   ]
  },
  {
   "cell_type": "code",
   "execution_count": 74,
   "metadata": {},
   "outputs": [],
   "source": [
    "medidas_funciones.to_csv('tabla_resultados_' + df.columns[0] + '.csv')"
   ]
  },
  {
   "cell_type": "code",
   "execution_count": 75,
   "metadata": {},
   "outputs": [
    {
     "data": {
      "text/plain": [
       "HOMBRES     71.754292\n",
       "dtype: float64"
      ]
     },
     "execution_count": 75,
     "metadata": {},
     "output_type": "execute_result"
    }
   ],
   "source": [
    "df.var(ddof = 1)"
   ]
  },
  {
   "cell_type": "code",
   "execution_count": 76,
   "metadata": {},
   "outputs": [
    {
     "data": {
      "text/html": [
       "<div>\n",
       "<style scoped>\n",
       "    .dataframe tbody tr th:only-of-type {\n",
       "        vertical-align: middle;\n",
       "    }\n",
       "\n",
       "    .dataframe tbody tr th {\n",
       "        vertical-align: top;\n",
       "    }\n",
       "\n",
       "    .dataframe thead th {\n",
       "        text-align: right;\n",
       "    }\n",
       "</style>\n",
       "<table border=\"1\" class=\"dataframe\">\n",
       "  <thead>\n",
       "    <tr style=\"text-align: right;\">\n",
       "      <th></th>\n",
       "      <th>HOMBRES</th>\n",
       "    </tr>\n",
       "  </thead>\n",
       "  <tbody>\n",
       "    <tr>\n",
       "      <th>count</th>\n",
       "      <td>57.000000</td>\n",
       "    </tr>\n",
       "    <tr>\n",
       "      <th>mean</th>\n",
       "      <td>71.943860</td>\n",
       "    </tr>\n",
       "    <tr>\n",
       "      <th>std</th>\n",
       "      <td>8.470791</td>\n",
       "    </tr>\n",
       "    <tr>\n",
       "      <th>min</th>\n",
       "      <td>55.900000</td>\n",
       "    </tr>\n",
       "    <tr>\n",
       "      <th>25%</th>\n",
       "      <td>65.900000</td>\n",
       "    </tr>\n",
       "    <tr>\n",
       "      <th>50%</th>\n",
       "      <td>70.500000</td>\n",
       "    </tr>\n",
       "    <tr>\n",
       "      <th>75%</th>\n",
       "      <td>77.300000</td>\n",
       "    </tr>\n",
       "    <tr>\n",
       "      <th>max</th>\n",
       "      <td>97.700000</td>\n",
       "    </tr>\n",
       "  </tbody>\n",
       "</table>\n",
       "</div>"
      ],
      "text/plain": [
       "        HOMBRES \n",
       "count  57.000000\n",
       "mean   71.943860\n",
       "std     8.470791\n",
       "min    55.900000\n",
       "25%    65.900000\n",
       "50%    70.500000\n",
       "75%    77.300000\n",
       "max    97.700000"
      ]
     },
     "execution_count": 76,
     "metadata": {},
     "output_type": "execute_result"
    }
   ],
   "source": [
    "df.describe()"
   ]
  }
 ],
 "metadata": {
  "kernelspec": {
   "display_name": "Python 3",
   "language": "python",
   "name": "python3"
  },
  "language_info": {
   "codemirror_mode": {
    "name": "ipython",
    "version": 3
   },
   "file_extension": ".py",
   "mimetype": "text/x-python",
   "name": "python",
   "nbconvert_exporter": "python",
   "pygments_lexer": "ipython3",
   "version": "3.10.6"
  },
  "orig_nbformat": 4
 },
 "nbformat": 4,
 "nbformat_minor": 2
}
