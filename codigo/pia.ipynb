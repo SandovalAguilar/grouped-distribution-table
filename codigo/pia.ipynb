{
 "cells": [
  {
   "cell_type": "code",
   "execution_count": 1,
   "metadata": {},
   "outputs": [],
   "source": [
    "# Librerias\n",
    "import pandas as pd\n",
    "import numpy as np\n",
    "import matplotlib.pyplot as plt\n",
    "import stemgraphic as sg\n",
    "import re\n",
    "from array import array"
   ]
  },
  {
   "cell_type": "code",
   "execution_count": 2,
   "metadata": {},
   "outputs": [],
   "source": [
    "# Dataset\n",
    "df = pd.read_csv('mujeres.csv')"
   ]
  },
  {
   "attachments": {},
   "cell_type": "markdown",
   "metadata": {},
   "source": [
    "#### Por hacer\n",
    "- ✅ Crear una funcion para obtener la media de datos agrupados\n",
    "- Crear una funcion para obtener la moda de datos agrupados\n",
    "- Crear una funcion para obtener la mediana de datos agrupados\n",
    "- Crear una funcion para obtener la varianza de datos agrupados\n",
    "- Crear una funcion para obtener el rango de datos agrupados\n",
    "- ✅ Crear diagrama de tallos y hojas (¿hacer en excel?)\n",
    "- ✅ Crear diagrama de puntos \n",
    "- Crear tabla de datos agrupados \n",
    "- Comparar ambas tablas\n",
    "- Crear script\n",
    "- Documento PDF"
   ]
  },
  {
   "attachments": {},
   "cell_type": "markdown",
   "metadata": {},
   "source": [
    "#### Variables globales"
   ]
  },
  {
   "cell_type": "code",
   "execution_count": 27,
   "metadata": {},
   "outputs": [
    {
     "data": {
      "text/plain": [
       "7"
      ]
     },
     "execution_count": 27,
     "metadata": {},
     "output_type": "execute_result"
    }
   ],
   "source": [
    "# Rango y numero de elementos\n",
    "rango = df.max() - df.min()\n",
    "n = df.shape[0]\n",
    "\n",
    "# Numero de clases\n",
    "if n < 30:\n",
    "    numero_clases = int(np.ceil(np.sqrt(n)))\n",
    "else:\n",
    "    numero_clases = int(np.ceil(1 + (3.322 * np.log10(n))))\n",
    "\n",
    "# Amplitud\n",
    "amplitud = rango / numero_clases\n",
    "\n",
    "numero_clases"
   ]
  },
  {
   "attachments": {},
   "cell_type": "markdown",
   "metadata": {},
   "source": [
    "#### Funciones por hacer"
   ]
  },
  {
   "cell_type": "code",
   "execution_count": 6,
   "metadata": {},
   "outputs": [],
   "source": [
    "# Funcion para obtener la media\n",
    "def media_agrupada(tabla_frecuencias, n):\n",
    "    tabla_frecuencias['x_i * f_i'] = tabla_frecuencias['Marca de clase'] * tabla_frecuencias['Frecuencia absoluta']\n",
    "    sum_xifi = float(tabla_frecuencias['x_i * f_i'].sum())\n",
    "    media_agrupada = sum_xifi / n\n",
    "    return media_agrupada"
   ]
  },
  {
   "cell_type": "code",
   "execution_count": 11,
   "metadata": {},
   "outputs": [],
   "source": [
    "# Funcion para obtener la moda\n",
    "def moda_agrupada():\n",
    "    pass"
   ]
  },
  {
   "cell_type": "code",
   "execution_count": 12,
   "metadata": {},
   "outputs": [],
   "source": [
    "# Funcion para obtener la mediana\n",
    "def mediana_agrupada():\n",
    "    pass"
   ]
  },
  {
   "cell_type": "code",
   "execution_count": 7,
   "metadata": {},
   "outputs": [],
   "source": [
    "# Funcion para obtener la varianza\n",
    "def varianza_agrupada(tabla_frecuencias, n, media_agrupada):\n",
    "    tabla_frecuencias['(x_i - \\mu)^2'] = ((tabla_frecuencias['Marca de clase'] - media_agrupada) ** 2)\n",
    "    tabla_frecuencias['(x_i - \\mu)^2 * f_i'] = tabla_frecuencias['(x_i - \\mu)^2'] * tabla_frecuencias['Frecuencia absoluta']\n",
    "    sumatoria = tabla_frecuencias['(x_i - \\mu)^2 * f_i'].sum()\n",
    "    varianza_agrupada = sumatoria / (n - 1)\n",
    "    return varianza_agrupada"
   ]
  },
  {
   "cell_type": "code",
   "execution_count": 14,
   "metadata": {},
   "outputs": [],
   "source": [
    "# Funcion para obtener el rango\n",
    "def rango_agrupado():\n",
    "    pass"
   ]
  },
  {
   "attachments": {},
   "cell_type": "markdown",
   "metadata": {},
   "source": [
    "#### Grafica de tallo y hoja"
   ]
  },
  {
   "cell_type": "code",
   "execution_count": 30,
   "metadata": {},
   "outputs": [
    {
     "data": {
      "image/png": "[encoded data removed]",
      "text/plain": [
       "<Figure size 750x225 with 1 Axes>"
      ]
     },
     "metadata": {},
     "output_type": "display_data"
    }
   ],
   "source": [
    "# Genera la grafica de tallo y hoja\n",
    "# Arreglo con los valores\n",
    "test_array = df['MUJERES'].to_numpy()\n",
    "fig, test_array = sg.stem_graphic(test_array)"
   ]
  },
  {
   "attachments": {},
   "cell_type": "markdown",
   "metadata": {},
   "source": [
    "#### Diagrama de puntos"
   ]
  },
  {
   "cell_type": "code",
   "execution_count": 32,
   "metadata": {},
   "outputs": [],
   "source": [
    "# Funcion para generar el diagrama de puntos\n",
    "def dotplot(input_x, **args):\n",
    "\n",
    "    # Count how many times does each value occur\n",
    "    unique_values, counts = np.unique(input_x, return_counts = True)\n",
    "    \n",
    "    # Convert 1D input into 2D array\n",
    "    scatter_x = [] # x values \n",
    "    scatter_y = [] # corresponding y values\n",
    "    for idx, value in enumerate(unique_values):\n",
    "        for counter in range(1, counts[idx]+1):\n",
    "            scatter_x.append(value)\n",
    "            scatter_y.append(counter)\n",
    "\n",
    "    # draw dot plot using scatter() \n",
    "    plt.scatter(scatter_x, scatter_y, s = 10, c = \"#000000\", **args)\n",
    "    \n",
    "    # Optional - show all unique values on x-axis. \n",
    "    # Matplotlib might hide some of them  \n",
    "    # plt.gca().set_xticks(unique_values)\n",
    "\n",
    "    plt.autoscale(enable=True, axis='x', tight=False)"
   ]
  },
  {
   "cell_type": "code",
   "execution_count": 33,
   "metadata": {},
   "outputs": [
    {
     "ename": "TypeError",
     "evalue": "float() argument must be a string or a real number, not 'Axes'",
     "output_type": "error",
     "traceback": [
      "\u001b[0;31m---------------------------------------------------------------------------\u001b[0m",
      "\u001b[0;31mTypeError\u001b[0m                                 Traceback (most recent call last)",
      "Cell \u001b[0;32mIn[33], line 2\u001b[0m\n\u001b[1;32m      1\u001b[0m \u001b[39m# Genera diagrama\u001b[39;00m\n\u001b[0;32m----> 2\u001b[0m dotplot(input_x \u001b[39m=\u001b[39;49m test_array)\n",
      "Cell \u001b[0;32mIn[32], line 16\u001b[0m, in \u001b[0;36mdotplot\u001b[0;34m(input_x, **args)\u001b[0m\n\u001b[1;32m     13\u001b[0m         scatter_y\u001b[39m.\u001b[39mappend(counter)\n\u001b[1;32m     15\u001b[0m \u001b[39m# draw dot plot using scatter() \u001b[39;00m\n\u001b[0;32m---> 16\u001b[0m plt\u001b[39m.\u001b[39;49mscatter(scatter_x, scatter_y, s \u001b[39m=\u001b[39;49m \u001b[39m10\u001b[39;49m, c \u001b[39m=\u001b[39;49m \u001b[39m\"\u001b[39;49m\u001b[39m#000000\u001b[39;49m\u001b[39m\"\u001b[39;49m, \u001b[39m*\u001b[39;49m\u001b[39m*\u001b[39;49margs)\n",
      "File \u001b[0;32m~/.local/lib/python3.10/site-packages/matplotlib/pyplot.py:2862\u001b[0m, in \u001b[0;36mscatter\u001b[0;34m(x, y, s, c, marker, cmap, norm, vmin, vmax, alpha, linewidths, edgecolors, plotnonfinite, data, **kwargs)\u001b[0m\n\u001b[1;32m   2857\u001b[0m \u001b[39m@_copy_docstring_and_deprecators\u001b[39m(Axes\u001b[39m.\u001b[39mscatter)\n\u001b[1;32m   2858\u001b[0m \u001b[39mdef\u001b[39;00m \u001b[39mscatter\u001b[39m(\n\u001b[1;32m   2859\u001b[0m         x, y, s\u001b[39m=\u001b[39m\u001b[39mNone\u001b[39;00m, c\u001b[39m=\u001b[39m\u001b[39mNone\u001b[39;00m, marker\u001b[39m=\u001b[39m\u001b[39mNone\u001b[39;00m, cmap\u001b[39m=\u001b[39m\u001b[39mNone\u001b[39;00m, norm\u001b[39m=\u001b[39m\u001b[39mNone\u001b[39;00m,\n\u001b[1;32m   2860\u001b[0m         vmin\u001b[39m=\u001b[39m\u001b[39mNone\u001b[39;00m, vmax\u001b[39m=\u001b[39m\u001b[39mNone\u001b[39;00m, alpha\u001b[39m=\u001b[39m\u001b[39mNone\u001b[39;00m, linewidths\u001b[39m=\u001b[39m\u001b[39mNone\u001b[39;00m, \u001b[39m*\u001b[39m,\n\u001b[1;32m   2861\u001b[0m         edgecolors\u001b[39m=\u001b[39m\u001b[39mNone\u001b[39;00m, plotnonfinite\u001b[39m=\u001b[39m\u001b[39mFalse\u001b[39;00m, data\u001b[39m=\u001b[39m\u001b[39mNone\u001b[39;00m, \u001b[39m*\u001b[39m\u001b[39m*\u001b[39mkwargs):\n\u001b[0;32m-> 2862\u001b[0m     __ret \u001b[39m=\u001b[39m gca()\u001b[39m.\u001b[39;49mscatter(\n\u001b[1;32m   2863\u001b[0m         x, y, s\u001b[39m=\u001b[39;49ms, c\u001b[39m=\u001b[39;49mc, marker\u001b[39m=\u001b[39;49mmarker, cmap\u001b[39m=\u001b[39;49mcmap, norm\u001b[39m=\u001b[39;49mnorm,\n\u001b[1;32m   2864\u001b[0m         vmin\u001b[39m=\u001b[39;49mvmin, vmax\u001b[39m=\u001b[39;49mvmax, alpha\u001b[39m=\u001b[39;49malpha, linewidths\u001b[39m=\u001b[39;49mlinewidths,\n\u001b[1;32m   2865\u001b[0m         edgecolors\u001b[39m=\u001b[39;49medgecolors, plotnonfinite\u001b[39m=\u001b[39;49mplotnonfinite,\n\u001b[1;32m   2866\u001b[0m         \u001b[39m*\u001b[39;49m\u001b[39m*\u001b[39;49m({\u001b[39m\"\u001b[39;49m\u001b[39mdata\u001b[39;49m\u001b[39m\"\u001b[39;49m: data} \u001b[39mif\u001b[39;49;00m data \u001b[39mis\u001b[39;49;00m \u001b[39mnot\u001b[39;49;00m \u001b[39mNone\u001b[39;49;00m \u001b[39melse\u001b[39;49;00m {}), \u001b[39m*\u001b[39;49m\u001b[39m*\u001b[39;49mkwargs)\n\u001b[1;32m   2867\u001b[0m     sci(__ret)\n\u001b[1;32m   2868\u001b[0m     \u001b[39mreturn\u001b[39;00m __ret\n",
      "File \u001b[0;32m~/.local/lib/python3.10/site-packages/matplotlib/__init__.py:1442\u001b[0m, in \u001b[0;36m_preprocess_data.<locals>.inner\u001b[0;34m(ax, data, *args, **kwargs)\u001b[0m\n\u001b[1;32m   1439\u001b[0m \u001b[39m@functools\u001b[39m\u001b[39m.\u001b[39mwraps(func)\n\u001b[1;32m   1440\u001b[0m \u001b[39mdef\u001b[39;00m \u001b[39minner\u001b[39m(ax, \u001b[39m*\u001b[39margs, data\u001b[39m=\u001b[39m\u001b[39mNone\u001b[39;00m, \u001b[39m*\u001b[39m\u001b[39m*\u001b[39mkwargs):\n\u001b[1;32m   1441\u001b[0m     \u001b[39mif\u001b[39;00m data \u001b[39mis\u001b[39;00m \u001b[39mNone\u001b[39;00m:\n\u001b[0;32m-> 1442\u001b[0m         \u001b[39mreturn\u001b[39;00m func(ax, \u001b[39m*\u001b[39;49m\u001b[39mmap\u001b[39;49m(sanitize_sequence, args), \u001b[39m*\u001b[39;49m\u001b[39m*\u001b[39;49mkwargs)\n\u001b[1;32m   1444\u001b[0m     bound \u001b[39m=\u001b[39m new_sig\u001b[39m.\u001b[39mbind(ax, \u001b[39m*\u001b[39margs, \u001b[39m*\u001b[39m\u001b[39m*\u001b[39mkwargs)\n\u001b[1;32m   1445\u001b[0m     auto_label \u001b[39m=\u001b[39m (bound\u001b[39m.\u001b[39marguments\u001b[39m.\u001b[39mget(label_namer)\n\u001b[1;32m   1446\u001b[0m                   \u001b[39mor\u001b[39;00m bound\u001b[39m.\u001b[39mkwargs\u001b[39m.\u001b[39mget(label_namer))\n",
      "File \u001b[0;32m~/.local/lib/python3.10/site-packages/matplotlib/axes/_axes.py:4673\u001b[0m, in \u001b[0;36mAxes.scatter\u001b[0;34m(self, x, y, s, c, marker, cmap, norm, vmin, vmax, alpha, linewidths, edgecolors, plotnonfinite, **kwargs)\u001b[0m\n\u001b[1;32m   4667\u001b[0m         linewidths \u001b[39m=\u001b[39m [\n\u001b[1;32m   4668\u001b[0m             lw \u001b[39mif\u001b[39;00m lw \u001b[39mis\u001b[39;00m \u001b[39mnot\u001b[39;00m \u001b[39mNone\u001b[39;00m \u001b[39melse\u001b[39;00m mpl\u001b[39m.\u001b[39mrcParams[\u001b[39m'\u001b[39m\u001b[39mlines.linewidth\u001b[39m\u001b[39m'\u001b[39m]\n\u001b[1;32m   4669\u001b[0m             \u001b[39mfor\u001b[39;00m lw \u001b[39min\u001b[39;00m linewidths]\n\u001b[1;32m   4671\u001b[0m offsets \u001b[39m=\u001b[39m np\u001b[39m.\u001b[39mma\u001b[39m.\u001b[39mcolumn_stack([x, y])\n\u001b[0;32m-> 4673\u001b[0m collection \u001b[39m=\u001b[39m mcoll\u001b[39m.\u001b[39;49mPathCollection(\n\u001b[1;32m   4674\u001b[0m     (path,), scales,\n\u001b[1;32m   4675\u001b[0m     facecolors\u001b[39m=\u001b[39;49mcolors,\n\u001b[1;32m   4676\u001b[0m     edgecolors\u001b[39m=\u001b[39;49medgecolors,\n\u001b[1;32m   4677\u001b[0m     linewidths\u001b[39m=\u001b[39;49mlinewidths,\n\u001b[1;32m   4678\u001b[0m     offsets\u001b[39m=\u001b[39;49moffsets,\n\u001b[1;32m   4679\u001b[0m     offset_transform\u001b[39m=\u001b[39;49mkwargs\u001b[39m.\u001b[39;49mpop(\u001b[39m'\u001b[39;49m\u001b[39mtransform\u001b[39;49m\u001b[39m'\u001b[39;49m, \u001b[39mself\u001b[39;49m\u001b[39m.\u001b[39;49mtransData),\n\u001b[1;32m   4680\u001b[0m     alpha\u001b[39m=\u001b[39;49malpha,\n\u001b[1;32m   4681\u001b[0m )\n\u001b[1;32m   4682\u001b[0m collection\u001b[39m.\u001b[39mset_transform(mtransforms\u001b[39m.\u001b[39mIdentityTransform())\n\u001b[1;32m   4683\u001b[0m \u001b[39mif\u001b[39;00m colors \u001b[39mis\u001b[39;00m \u001b[39mNone\u001b[39;00m:\n",
      "File \u001b[0;32m~/.local/lib/python3.10/site-packages/matplotlib/collections.py:994\u001b[0m, in \u001b[0;36mPathCollection.__init__\u001b[0;34m(self, paths, sizes, **kwargs)\u001b[0m\n\u001b[1;32m    980\u001b[0m \u001b[39mdef\u001b[39;00m \u001b[39m__init__\u001b[39m(\u001b[39mself\u001b[39m, paths, sizes\u001b[39m=\u001b[39m\u001b[39mNone\u001b[39;00m, \u001b[39m*\u001b[39m\u001b[39m*\u001b[39mkwargs):\n\u001b[1;32m    981\u001b[0m \u001b[39m    \u001b[39m\u001b[39m\"\"\"\u001b[39;00m\n\u001b[1;32m    982\u001b[0m \u001b[39m    Parameters\u001b[39;00m\n\u001b[1;32m    983\u001b[0m \u001b[39m    ----------\u001b[39;00m\n\u001b[0;32m   (...)\u001b[0m\n\u001b[1;32m    991\u001b[0m \u001b[39m        Forwarded to `.Collection`.\u001b[39;00m\n\u001b[1;32m    992\u001b[0m \u001b[39m    \"\"\"\u001b[39;00m\n\u001b[0;32m--> 994\u001b[0m     \u001b[39msuper\u001b[39;49m()\u001b[39m.\u001b[39;49m\u001b[39m__init__\u001b[39;49m(\u001b[39m*\u001b[39;49m\u001b[39m*\u001b[39;49mkwargs)\n\u001b[1;32m    995\u001b[0m     \u001b[39mself\u001b[39m\u001b[39m.\u001b[39mset_paths(paths)\n\u001b[1;32m    996\u001b[0m     \u001b[39mself\u001b[39m\u001b[39m.\u001b[39mset_sizes(sizes)\n",
      "File \u001b[0;32m~/.local/lib/python3.10/site-packages/matplotlib/_api/deprecation.py:454\u001b[0m, in \u001b[0;36mmake_keyword_only.<locals>.wrapper\u001b[0;34m(*args, **kwargs)\u001b[0m\n\u001b[1;32m    448\u001b[0m \u001b[39mif\u001b[39;00m \u001b[39mlen\u001b[39m(args) \u001b[39m>\u001b[39m name_idx:\n\u001b[1;32m    449\u001b[0m     warn_deprecated(\n\u001b[1;32m    450\u001b[0m         since, message\u001b[39m=\u001b[39m\u001b[39m\"\u001b[39m\u001b[39mPassing the \u001b[39m\u001b[39m%(name)s\u001b[39;00m\u001b[39m \u001b[39m\u001b[39m%(obj_type)s\u001b[39;00m\u001b[39m \u001b[39m\u001b[39m\"\u001b[39m\n\u001b[1;32m    451\u001b[0m         \u001b[39m\"\u001b[39m\u001b[39mpositionally is deprecated since Matplotlib \u001b[39m\u001b[39m%(since)s\u001b[39;00m\u001b[39m; the \u001b[39m\u001b[39m\"\u001b[39m\n\u001b[1;32m    452\u001b[0m         \u001b[39m\"\u001b[39m\u001b[39mparameter will become keyword-only \u001b[39m\u001b[39m%(removal)s\u001b[39;00m\u001b[39m.\u001b[39m\u001b[39m\"\u001b[39m,\n\u001b[1;32m    453\u001b[0m         name\u001b[39m=\u001b[39mname, obj_type\u001b[39m=\u001b[39m\u001b[39mf\u001b[39m\u001b[39m\"\u001b[39m\u001b[39mparameter of \u001b[39m\u001b[39m{\u001b[39;00mfunc\u001b[39m.\u001b[39m\u001b[39m__name__\u001b[39m\u001b[39m}\u001b[39;00m\u001b[39m()\u001b[39m\u001b[39m\"\u001b[39m)\n\u001b[0;32m--> 454\u001b[0m \u001b[39mreturn\u001b[39;00m func(\u001b[39m*\u001b[39;49margs, \u001b[39m*\u001b[39;49m\u001b[39m*\u001b[39;49mkwargs)\n",
      "File \u001b[0;32m~/.local/lib/python3.10/site-packages/matplotlib/collections.py:192\u001b[0m, in \u001b[0;36mCollection.__init__\u001b[0;34m(self, edgecolors, facecolors, linewidths, linestyles, capstyle, joinstyle, antialiaseds, offsets, offset_transform, norm, cmap, pickradius, hatch, urls, zorder, **kwargs)\u001b[0m\n\u001b[1;32m    189\u001b[0m     \u001b[39mself\u001b[39m\u001b[39m.\u001b[39m_joinstyle \u001b[39m=\u001b[39m \u001b[39mNone\u001b[39;00m\n\u001b[1;32m    191\u001b[0m \u001b[39mif\u001b[39;00m offsets \u001b[39mis\u001b[39;00m \u001b[39mnot\u001b[39;00m \u001b[39mNone\u001b[39;00m:\n\u001b[0;32m--> 192\u001b[0m     offsets \u001b[39m=\u001b[39m np\u001b[39m.\u001b[39;49masanyarray(offsets, \u001b[39mfloat\u001b[39;49m)\n\u001b[1;32m    193\u001b[0m     \u001b[39m# Broadcast (2,) -> (1, 2) but nothing else.\u001b[39;00m\n\u001b[1;32m    194\u001b[0m     \u001b[39mif\u001b[39;00m offsets\u001b[39m.\u001b[39mshape \u001b[39m==\u001b[39m (\u001b[39m2\u001b[39m,):\n",
      "\u001b[0;31mTypeError\u001b[0m: float() argument must be a string or a real number, not 'Axes'"
     ]
    },
    {
     "data": {
      "image/png": "[encoded data removed]",
      "text/plain": [
       "<Figure size 640x480 with 1 Axes>"
      ]
     },
     "metadata": {},
     "output_type": "display_data"
    }
   ],
   "source": [
    "# Genera diagrama\n",
    "dotplot(input_x = test_array)"
   ]
  },
  {
   "attachments": {},
   "cell_type": "markdown",
   "metadata": {},
   "source": [
    "#### Tabla de datos agrupados"
   ]
  },
  {
   "cell_type": "code",
   "execution_count": 20,
   "metadata": {},
   "outputs": [
    {
     "data": {
      "text/html": [
       "<div>\n",
       "<style scoped>\n",
       "    .dataframe tbody tr th:only-of-type {\n",
       "        vertical-align: middle;\n",
       "    }\n",
       "\n",
       "    .dataframe tbody tr th {\n",
       "        vertical-align: top;\n",
       "    }\n",
       "\n",
       "    .dataframe thead th {\n",
       "        text-align: right;\n",
       "    }\n",
       "</style>\n",
       "<table border=\"1\" class=\"dataframe\">\n",
       "  <thead>\n",
       "    <tr style=\"text-align: right;\">\n",
       "      <th></th>\n",
       "      <th>Frecuencia absoluta</th>\n",
       "      <th>Frecuencia acumulada</th>\n",
       "      <th>Frecuencia relativa</th>\n",
       "      <th>Marca de clase</th>\n",
       "    </tr>\n",
       "    <tr>\n",
       "      <th>MUJERES</th>\n",
       "      <th></th>\n",
       "      <th></th>\n",
       "      <th></th>\n",
       "      <th></th>\n",
       "    </tr>\n",
       "  </thead>\n",
       "  <tbody>\n",
       "    <tr>\n",
       "      <th>(43.174, 46.771]</th>\n",
       "      <td>2</td>\n",
       "      <td>2</td>\n",
       "      <td>0.057143</td>\n",
       "      <td>44.9725</td>\n",
       "    </tr>\n",
       "    <tr>\n",
       "      <th>(46.771, 50.343]</th>\n",
       "      <td>4</td>\n",
       "      <td>6</td>\n",
       "      <td>0.114286</td>\n",
       "      <td>48.5570</td>\n",
       "    </tr>\n",
       "    <tr>\n",
       "      <th>(50.343, 53.914]</th>\n",
       "      <td>7</td>\n",
       "      <td>13</td>\n",
       "      <td>0.200000</td>\n",
       "      <td>52.1285</td>\n",
       "    </tr>\n",
       "    <tr>\n",
       "      <th>(53.914, 57.486]</th>\n",
       "      <td>10</td>\n",
       "      <td>23</td>\n",
       "      <td>0.285714</td>\n",
       "      <td>55.7000</td>\n",
       "    </tr>\n",
       "    <tr>\n",
       "      <th>(57.486, 61.057]</th>\n",
       "      <td>5</td>\n",
       "      <td>28</td>\n",
       "      <td>0.142857</td>\n",
       "      <td>59.2715</td>\n",
       "    </tr>\n",
       "    <tr>\n",
       "      <th>(61.057, 64.629]</th>\n",
       "      <td>3</td>\n",
       "      <td>31</td>\n",
       "      <td>0.085714</td>\n",
       "      <td>62.8430</td>\n",
       "    </tr>\n",
       "    <tr>\n",
       "      <th>(64.629, 68.2]</th>\n",
       "      <td>4</td>\n",
       "      <td>35</td>\n",
       "      <td>0.114286</td>\n",
       "      <td>66.4145</td>\n",
       "    </tr>\n",
       "  </tbody>\n",
       "</table>\n",
       "</div>"
      ],
      "text/plain": [
       "                  Frecuencia absoluta  Frecuencia acumulada   \n",
       "MUJERES                                                       \n",
       "(43.174, 46.771]                    2                     2  \\\n",
       "(46.771, 50.343]                    4                     6   \n",
       "(50.343, 53.914]                    7                    13   \n",
       "(53.914, 57.486]                   10                    23   \n",
       "(57.486, 61.057]                    5                    28   \n",
       "(61.057, 64.629]                    3                    31   \n",
       "(64.629, 68.2]                      4                    35   \n",
       "\n",
       "                  Frecuencia relativa  Marca de clase  \n",
       "MUJERES                                                \n",
       "(43.174, 46.771]             0.057143         44.9725  \n",
       "(46.771, 50.343]             0.114286         48.5570  \n",
       "(50.343, 53.914]             0.200000         52.1285  \n",
       "(53.914, 57.486]             0.285714         55.7000  \n",
       "(57.486, 61.057]             0.142857         59.2715  \n",
       "(61.057, 64.629]             0.085714         62.8430  \n",
       "(64.629, 68.2]               0.114286         66.4145  "
      ]
     },
     "execution_count": 20,
     "metadata": {},
     "output_type": "execute_result"
    }
   ],
   "source": [
    "# Por terminar, marca de clase, f_i * x_i, ..., optimizar codigo\n",
    "nombre_columna = df.columns[0]\n",
    "clases = df[nombre_columna].value_counts(bins = numero_clases, sort = False)\n",
    "tabla_frecuencias = pd.DataFrame(clases)\n",
    "tabla_frecuencias.rename(columns = {'count':'Frecuencia absoluta'}, inplace = True)\n",
    "frecuencia_acumulada = []\n",
    "acumulador = 0\n",
    "\n",
    "# Columna: frecuencia acumulada\n",
    "for i in tabla_frecuencias.index:\n",
    "    acumulador = acumulador + tabla_frecuencias['Frecuencia absoluta'][i]\n",
    "    frecuencia_acumulada.append(acumulador)\n",
    "\n",
    "# Columnas: f. acumulada y f. relativa\n",
    "tabla_frecuencias['Frecuencia acumulada'] = frecuencia_acumulada\n",
    "tabla_frecuencias['Frecuencia relativa'] = tabla_frecuencias['Frecuencia absoluta'] / n\n",
    "\n",
    "# Arreglo de intervalos\n",
    "# \"[0-9]+.[0-9]+, [0-9]+.[0-9]+\"gm\n",
    "intervalos_str = []\n",
    "intervalos_float = []\n",
    "marca_clase = []\n",
    "\n",
    "clases_lista = clases.index\n",
    "\n",
    "for i in clases_lista:\n",
    "    matched = re.search(\"[0-9]+.[0-9]+, [0-9]+.[0-9]+\", str(i))\n",
    "    intervalos_str.append(matched.group())\n",
    "    \n",
    "for i in intervalos_str:\n",
    "    intervalos_float.append(i.split(', '))\n",
    "\n",
    "for i in intervalos_float:\n",
    "    for j in i:\n",
    "        j = float(j)\n",
    "\n",
    "intervalos_float = np.array(intervalos_float, dtype = float)\n",
    "\n",
    "for i in intervalos_float:\n",
    "    marca_clase.append(np.sum(i) / 2)\n",
    "\n",
    "# Columna: marca de clase\n",
    "tabla_frecuencias['Marca de clase'] = marca_clase\n",
    "\n",
    "# Columna: x_i * f_i\n",
    "# tabla_frecuencias['x_i * f_i'] = tabla_frecuencias['Marca de clase'] * tabla_frecuencias['Frecuencia absoluta']\n",
    "\n",
    "# Columna: (x_i - u)^2\n",
    "'''\n",
    "sum_xifi = float(tabla_frecuencias['x_i * f_i'].sum())\n",
    "media_agrupada = media_agrupada(sum_xifi, n)\n",
    "tabla_frecuencias['(x_i - \\mu)^2 * f_i'] = ((tabla_frecuencias['Marca de clase'] - media_agrupada) ** 2) * tabla_frecuencias['Frecuencia absoluta']\n",
    "'''\n",
    "\n",
    "tabla_frecuencias"
   ]
  },
  {
   "attachments": {},
   "cell_type": "markdown",
   "metadata": {},
   "source": [
    "#### Funciones test"
   ]
  },
  {
   "cell_type": "code",
   "execution_count": 21,
   "metadata": {},
   "outputs": [
    {
     "data": {
      "text/plain": [
       "55.90334285714286"
      ]
     },
     "execution_count": 21,
     "metadata": {},
     "output_type": "execute_result"
    }
   ],
   "source": [
    "# Media agrupada\n",
    "#sum_xifi = float(tabla_frecuencias['x_i * f_i'].sum())\n",
    "media_agrupada = media_agrupada(tabla_frecuencias, n)\n",
    "media_agrupada"
   ]
  },
  {
   "cell_type": "code",
   "execution_count": 25,
   "metadata": {},
   "outputs": [],
   "source": [
    "# Varianza agrupada\n",
    "varianza_agrupada = varianza_agrupada(tabla_frecuencias, n, media_agrupada)"
   ]
  },
  {
   "cell_type": "code",
   "execution_count": null,
   "metadata": {},
   "outputs": [
    {
     "data": {
      "text/html": [
       "<div>\n",
       "<style scoped>\n",
       "    .dataframe tbody tr th:only-of-type {\n",
       "        vertical-align: middle;\n",
       "    }\n",
       "\n",
       "    .dataframe tbody tr th {\n",
       "        vertical-align: top;\n",
       "    }\n",
       "\n",
       "    .dataframe thead th {\n",
       "        text-align: right;\n",
       "    }\n",
       "</style>\n",
       "<table border=\"1\" class=\"dataframe\">\n",
       "  <thead>\n",
       "    <tr style=\"text-align: right;\">\n",
       "      <th></th>\n",
       "      <th>Frecuencia absoluta</th>\n",
       "      <th>Frecuencia acumulada</th>\n",
       "      <th>Frecuencia relativa</th>\n",
       "      <th>Marca de clase</th>\n",
       "      <th>x_i * f_i</th>\n",
       "      <th>(x_i - \\mu)^2 * f_i</th>\n",
       "      <th>(x_i - \\mu)^2</th>\n",
       "    </tr>\n",
       "    <tr>\n",
       "      <th>MUJERES</th>\n",
       "      <th></th>\n",
       "      <th></th>\n",
       "      <th></th>\n",
       "      <th></th>\n",
       "      <th></th>\n",
       "      <th></th>\n",
       "      <th></th>\n",
       "    </tr>\n",
       "  </thead>\n",
       "  <tbody>\n",
       "    <tr>\n",
       "      <th>(43.174, 45.123]</th>\n",
       "      <td>1</td>\n",
       "      <td>1</td>\n",
       "      <td>0.028571</td>\n",
       "      <td>44.1485</td>\n",
       "      <td>44.1485</td>\n",
       "      <td>147.756528</td>\n",
       "      <td>147.756528</td>\n",
       "    </tr>\n",
       "    <tr>\n",
       "      <th>(45.123, 47.046]</th>\n",
       "      <td>1</td>\n",
       "      <td>2</td>\n",
       "      <td>0.028571</td>\n",
       "      <td>46.0845</td>\n",
       "      <td>46.0845</td>\n",
       "      <td>104.438472</td>\n",
       "      <td>104.438472</td>\n",
       "    </tr>\n",
       "    <tr>\n",
       "      <th>(47.046, 48.969]</th>\n",
       "      <td>0</td>\n",
       "      <td>2</td>\n",
       "      <td>0.000000</td>\n",
       "      <td>48.0075</td>\n",
       "      <td>0.0000</td>\n",
       "      <td>68.832149</td>\n",
       "      <td>68.832149</td>\n",
       "    </tr>\n",
       "    <tr>\n",
       "      <th>(48.969, 50.892]</th>\n",
       "      <td>4</td>\n",
       "      <td>6</td>\n",
       "      <td>0.114286</td>\n",
       "      <td>49.9305</td>\n",
       "      <td>199.7220</td>\n",
       "      <td>40.621684</td>\n",
       "      <td>40.621684</td>\n",
       "    </tr>\n",
       "    <tr>\n",
       "      <th>(50.892, 52.815]</th>\n",
       "      <td>5</td>\n",
       "      <td>11</td>\n",
       "      <td>0.142857</td>\n",
       "      <td>51.8535</td>\n",
       "      <td>259.2675</td>\n",
       "      <td>19.807077</td>\n",
       "      <td>19.807077</td>\n",
       "    </tr>\n",
       "    <tr>\n",
       "      <th>(52.815, 54.738]</th>\n",
       "      <td>5</td>\n",
       "      <td>16</td>\n",
       "      <td>0.142857</td>\n",
       "      <td>53.7765</td>\n",
       "      <td>268.8825</td>\n",
       "      <td>6.388328</td>\n",
       "      <td>6.388328</td>\n",
       "    </tr>\n",
       "    <tr>\n",
       "      <th>(54.738, 56.662]</th>\n",
       "      <td>2</td>\n",
       "      <td>18</td>\n",
       "      <td>0.057143</td>\n",
       "      <td>55.7000</td>\n",
       "      <td>111.4000</td>\n",
       "      <td>0.364833</td>\n",
       "      <td>0.364833</td>\n",
       "    </tr>\n",
       "    <tr>\n",
       "      <th>(56.662, 58.585]</th>\n",
       "      <td>5</td>\n",
       "      <td>23</td>\n",
       "      <td>0.142857</td>\n",
       "      <td>57.6235</td>\n",
       "      <td>288.1175</td>\n",
       "      <td>1.741043</td>\n",
       "      <td>1.741043</td>\n",
       "    </tr>\n",
       "    <tr>\n",
       "      <th>(58.585, 60.508]</th>\n",
       "      <td>5</td>\n",
       "      <td>28</td>\n",
       "      <td>0.142857</td>\n",
       "      <td>59.5465</td>\n",
       "      <td>297.7325</td>\n",
       "      <td>10.513714</td>\n",
       "      <td>10.513714</td>\n",
       "    </tr>\n",
       "    <tr>\n",
       "      <th>(60.508, 62.431]</th>\n",
       "      <td>1</td>\n",
       "      <td>29</td>\n",
       "      <td>0.028571</td>\n",
       "      <td>61.4695</td>\n",
       "      <td>61.4695</td>\n",
       "      <td>26.682243</td>\n",
       "      <td>26.682243</td>\n",
       "    </tr>\n",
       "    <tr>\n",
       "      <th>(62.431, 64.354]</th>\n",
       "      <td>2</td>\n",
       "      <td>31</td>\n",
       "      <td>0.057143</td>\n",
       "      <td>63.3925</td>\n",
       "      <td>126.7850</td>\n",
       "      <td>50.246630</td>\n",
       "      <td>50.246630</td>\n",
       "    </tr>\n",
       "    <tr>\n",
       "      <th>(64.354, 66.277]</th>\n",
       "      <td>1</td>\n",
       "      <td>32</td>\n",
       "      <td>0.028571</td>\n",
       "      <td>65.3155</td>\n",
       "      <td>65.3155</td>\n",
       "      <td>81.206875</td>\n",
       "      <td>81.206875</td>\n",
       "    </tr>\n",
       "    <tr>\n",
       "      <th>(66.277, 68.2]</th>\n",
       "      <td>3</td>\n",
       "      <td>35</td>\n",
       "      <td>0.085714</td>\n",
       "      <td>67.2385</td>\n",
       "      <td>201.7155</td>\n",
       "      <td>119.562978</td>\n",
       "      <td>119.562978</td>\n",
       "    </tr>\n",
       "  </tbody>\n",
       "</table>\n",
       "</div>"
      ],
      "text/plain": [
       "                  Frecuencia absoluta  Frecuencia acumulada   \n",
       "MUJERES                                                       \n",
       "(43.174, 45.123]                    1                     1  \\\n",
       "(45.123, 47.046]                    1                     2   \n",
       "(47.046, 48.969]                    0                     2   \n",
       "(48.969, 50.892]                    4                     6   \n",
       "(50.892, 52.815]                    5                    11   \n",
       "(52.815, 54.738]                    5                    16   \n",
       "(54.738, 56.662]                    2                    18   \n",
       "(56.662, 58.585]                    5                    23   \n",
       "(58.585, 60.508]                    5                    28   \n",
       "(60.508, 62.431]                    1                    29   \n",
       "(62.431, 64.354]                    2                    31   \n",
       "(64.354, 66.277]                    1                    32   \n",
       "(66.277, 68.2]                      3                    35   \n",
       "\n",
       "                  Frecuencia relativa  Marca de clase  x_i * f_i   \n",
       "MUJERES                                                            \n",
       "(43.174, 45.123]             0.028571         44.1485    44.1485  \\\n",
       "(45.123, 47.046]             0.028571         46.0845    46.0845   \n",
       "(47.046, 48.969]             0.000000         48.0075     0.0000   \n",
       "(48.969, 50.892]             0.114286         49.9305   199.7220   \n",
       "(50.892, 52.815]             0.142857         51.8535   259.2675   \n",
       "(52.815, 54.738]             0.142857         53.7765   268.8825   \n",
       "(54.738, 56.662]             0.057143         55.7000   111.4000   \n",
       "(56.662, 58.585]             0.142857         57.6235   288.1175   \n",
       "(58.585, 60.508]             0.142857         59.5465   297.7325   \n",
       "(60.508, 62.431]             0.028571         61.4695    61.4695   \n",
       "(62.431, 64.354]             0.057143         63.3925   126.7850   \n",
       "(64.354, 66.277]             0.028571         65.3155    65.3155   \n",
       "(66.277, 68.2]               0.085714         67.2385   201.7155   \n",
       "\n",
       "                  (x_i - \\mu)^2 * f_i  (x_i - \\mu)^2  \n",
       "MUJERES                                               \n",
       "(43.174, 45.123]           147.756528     147.756528  \n",
       "(45.123, 47.046]           104.438472     104.438472  \n",
       "(47.046, 48.969]            68.832149      68.832149  \n",
       "(48.969, 50.892]            40.621684      40.621684  \n",
       "(50.892, 52.815]            19.807077      19.807077  \n",
       "(52.815, 54.738]             6.388328       6.388328  \n",
       "(54.738, 56.662]             0.364833       0.364833  \n",
       "(56.662, 58.585]             1.741043       1.741043  \n",
       "(58.585, 60.508]            10.513714      10.513714  \n",
       "(60.508, 62.431]            26.682243      26.682243  \n",
       "(62.431, 64.354]            50.246630      50.246630  \n",
       "(64.354, 66.277]            81.206875      81.206875  \n",
       "(66.277, 68.2]             119.562978     119.562978  "
      ]
     },
     "execution_count": 245,
     "metadata": {},
     "output_type": "execute_result"
    }
   ],
   "source": [
    "tabla_frecuencias['(x_i - \\mu)^2'] = ((tabla_frecuencias['Marca de clase'] - media_agrupada) ** 2)\n",
    "tabla_frecuencias"
   ]
  },
  {
   "cell_type": "code",
   "execution_count": 26,
   "metadata": {},
   "outputs": [
    {
     "name": "stdout",
     "output_type": "stream",
     "text": [
      "MUJERES    0.653664\n",
      "dtype: float64\n",
      "MUJERES    0.365229\n",
      "dtype: float64\n"
     ]
    }
   ],
   "source": [
    "print(df.var(ddof = 0) - varianza_agrupada)\n",
    "print(df.mean() - media_agrupada)"
   ]
  }
 ],
 "metadata": {
  "kernelspec": {
   "display_name": "Python 3",
   "language": "python",
   "name": "python3"
  },
  "language_info": {
   "codemirror_mode": {
    "name": "ipython",
    "version": 3
   },
   "file_extension": ".py",
   "mimetype": "text/x-python",
   "name": "python",
   "nbconvert_exporter": "python",
   "pygments_lexer": "ipython3",
   "version": "3.10.6"
  },
  "orig_nbformat": 4
 },
 "nbformat": 4,
 "nbformat_minor": 2
}
