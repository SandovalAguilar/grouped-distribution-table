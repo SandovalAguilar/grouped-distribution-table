{
 "cells": [
  {
   "cell_type": "code",
   "execution_count": 77,
   "metadata": {},
   "outputs": [],
   "source": [
    "# Librerias\n",
    "import pandas as pd\n",
    "import numpy as np\n",
    "import re"
   ]
  },
  {
   "cell_type": "code",
   "execution_count": 78,
   "metadata": {},
   "outputs": [],
   "source": [
    "# Dataset\n",
    "#df = pd.read_csv('hombres.csv')\n",
    "df = pd.read_csv('mujeres.csv')"
   ]
  },
  {
   "attachments": {},
   "cell_type": "markdown",
   "metadata": {},
   "source": [
    "#### Variables globales"
   ]
  },
  {
   "cell_type": "code",
   "execution_count": 79,
   "metadata": {},
   "outputs": [],
   "source": [
    "# Rango y numero de elementos\n",
    "rango = df.max() - df.min()\n",
    "n = df.shape[0]\n",
    "\n",
    "nombre_columna = df.columns[0]\n",
    "\n",
    "# Numero de clases\n",
    "if n < 30:\n",
    "    numero_clases = int(np.ceil(np.sqrt(n)))\n",
    "else:\n",
    "    numero_clases = int(np.ceil(1 + (3.322 * np.log10(n))))\n",
    "\n",
    "# Amplitud\n",
    "amplitud = rango / numero_clases"
   ]
  },
  {
   "attachments": {},
   "cell_type": "markdown",
   "metadata": {},
   "source": [
    "#### Funciones por hacer"
   ]
  },
  {
   "cell_type": "code",
   "execution_count": 80,
   "metadata": {},
   "outputs": [],
   "source": [
    "# Funcion para obtener la media\n",
    "def media_agrupada(tabla_frecuencias, n):\n",
    "    tabla_frecuencias['x_i * f_i'] = tabla_frecuencias['Marca de clase'] * tabla_frecuencias['Frecuencia absoluta']\n",
    "    sum_xifi = float(tabla_frecuencias['x_i * f_i'].sum())\n",
    "    media_agrupada = sum_xifi / n\n",
    "    return media_agrupada"
   ]
  },
  {
   "cell_type": "code",
   "execution_count": 81,
   "metadata": {},
   "outputs": [],
   "source": [
    "# Funcion para obtener la clase a la que pertenece la moda\n",
    "def moda_clase(tabla_frecuencias):\n",
    "    clase = 0\n",
    "    frecuencia_mayor = tabla_frecuencias['Frecuencia absoluta'].max()\n",
    "\n",
    "    for i in tabla_frecuencias['Frecuencia absoluta']:\n",
    "            clase += 1\n",
    "            if i == frecuencia_mayor:\n",
    "                return clase\n",
    "\n",
    "# Funcion para obtener la moda\n",
    "def moda_agrupada(moda_clase, amplitud, tabla_frecuencias, intervalos_float):\n",
    "    limite_inferior = min(intervalos_float[moda_clase - 1]) \n",
    "    delta_1 = tabla_frecuencias['Frecuencia absoluta'].iloc[moda_clase - 1] - tabla_frecuencias['Frecuencia absoluta'].iloc[moda_clase - 2]\n",
    "    delta_2 = tabla_frecuencias['Frecuencia absoluta'].iloc[moda_clase - 1] - tabla_frecuencias['Frecuencia absoluta'].iloc[moda_clase]\n",
    "    moda_agrupada = limite_inferior + ((delta_1) / (delta_1 + delta_2)) * amplitud\n",
    "    return moda_agrupada"
   ]
  },
  {
   "cell_type": "code",
   "execution_count": 82,
   "metadata": {},
   "outputs": [],
   "source": [
    "# Funcion para la posicion de la clase en la que se encuentra la mediana\n",
    "def mediana_clase(n, tabla_frecuencias):\n",
    "    posicion = (n + 1) / 2\n",
    "    clase = 0\n",
    "\n",
    "    posicion_clase = next((clase + 1 for clase, frecuencia_acumulada in enumerate(tabla_frecuencias['Frecuencia acumulada']) if frecuencia_acumulada>=posicion), None)\n",
    "    \n",
    "    return posicion_clase\n",
    "\n",
    "# Funcion para obtener la mediana\n",
    "def mediana_agrupada(mediana_clase, amplitud, tabla_frecuencias, intervalos_float):\n",
    "    limite_inferior = min(intervalos_float[mediana_clase - 1]) \n",
    "    frec_acum_anterior = tabla_frecuencias['Frecuencia acumulada'].iloc[mediana_clase - 2]\n",
    "    frec_absoluta = tabla_frecuencias['Frecuencia absoluta'].iloc[mediana_clase -1]\n",
    "    mediana_agrupada = limite_inferior + (((n / 2) - frec_acum_anterior) / frec_absoluta ) * amplitud\n",
    "\n",
    "    return mediana_agrupada"
   ]
  },
  {
   "cell_type": "code",
   "execution_count": 83,
   "metadata": {},
   "outputs": [],
   "source": [
    "# Funcion para obtener la varianza\n",
    "def varianza_agrupada(tabla_frecuencias, n, media_agrupada):\n",
    "    tabla_frecuencias['(x_i - \\mu)^2'] = ((tabla_frecuencias['Marca de clase'] - media_agrupada) ** 2)\n",
    "    tabla_frecuencias['(x_i - \\mu)^2 * f_i'] = tabla_frecuencias['(x_i - \\mu)^2'] * tabla_frecuencias['Frecuencia absoluta']\n",
    "    sumatoria = tabla_frecuencias['(x_i - \\mu)^2 * f_i'].sum()\n",
    "    varianza_agrupada = (sumatoria) / (n - 1)\n",
    "    return varianza_agrupada"
   ]
  },
  {
   "cell_type": "code",
   "execution_count": 84,
   "metadata": {},
   "outputs": [],
   "source": [
    "# Funcion para obtener el rango\n",
    "def rango_agrupado(tabla_frecuencias):\n",
    "    rango = tabla_frecuencias['Marca de clase'].max() - tabla_frecuencias['Marca de clase'].min()\n",
    "    return rango"
   ]
  },
  {
   "attachments": {},
   "cell_type": "markdown",
   "metadata": {},
   "source": [
    "#### Tabla de datos agrupados"
   ]
  },
  {
   "cell_type": "code",
   "execution_count": 85,
   "metadata": {},
   "outputs": [
    {
     "data": {
      "text/plain": [
       "MUJERES\n",
       "(43.174, 46.771]     2\n",
       "(46.771, 50.343]     4\n",
       "(50.343, 53.914]     7\n",
       "(53.914, 57.486]    10\n",
       "(57.486, 61.057]     5\n",
       "(61.057, 64.629]     3\n",
       "(64.629, 68.2]       4\n",
       "Name: count, dtype: int64"
      ]
     },
     "execution_count": 85,
     "metadata": {},
     "output_type": "execute_result"
    }
   ],
   "source": [
    "nombre_columna = df.columns[0]\n",
    "clases = df[nombre_columna].value_counts(bins = numero_clases, sort = False)\n",
    "tabla_frecuencias = pd.DataFrame(clases)\n",
    "tabla_frecuencias.rename(columns = {'count':'Frecuencia absoluta'}, inplace = True)\n",
    "tabla_frecuencias\n",
    "clases"
   ]
  },
  {
   "cell_type": "code",
   "execution_count": 86,
   "metadata": {},
   "outputs": [
    {
     "data": {
      "text/plain": [
       "MUJERES    68.2\n",
       "dtype: float64"
      ]
     },
     "execution_count": 86,
     "metadata": {},
     "output_type": "execute_result"
    }
   ],
   "source": [
    "df[df.columns[0]].values\n",
    "df.max()"
   ]
  },
  {
   "cell_type": "code",
   "execution_count": 87,
   "metadata": {},
   "outputs": [
    {
     "data": {
      "text/plain": [
       "array([[43.2       , 46.77142857],\n",
       "       [46.77142857, 50.34285714],\n",
       "       [50.34285714, 53.91428571],\n",
       "       [53.91428571, 57.48571429],\n",
       "       [57.48571429, 61.05714286],\n",
       "       [61.05714286, 64.62857143],\n",
       "       [64.62857143, 68.2       ]])"
      ]
     },
     "execution_count": 87,
     "metadata": {},
     "output_type": "execute_result"
    }
   ],
   "source": [
    "array_classes = np.empty((numero_clases, 2), dtype=float)\n",
    "array_classes[0][0] = df.min().iloc[0] \n",
    "array_classes[0][1] = df.min().iloc[0] + amplitud.iloc[0]\n",
    "aux_col1 = df.min().iloc[0]\n",
    "aux_col2 = df.min().iloc[0] + amplitud.iloc[0]\n",
    "\n",
    "for i in range(1,numero_clases):\n",
    "    aux_col1 += amplitud\n",
    "    array_classes[i][0] = aux_col1.iloc[0]\n",
    "        \n",
    "for i in range(1,numero_clases):\n",
    "    aux_col2 += amplitud\n",
    "    array_classes[i][1] = aux_col2.iloc[0]\n",
    "\n",
    "array_classes"
   ]
  },
  {
   "cell_type": "code",
   "execution_count": 88,
   "metadata": {},
   "outputs": [
    {
     "name": "stdout",
     "output_type": "stream",
     "text": [
      "[ 2  4  7 10  5  3  4]\n"
     ]
    }
   ],
   "source": [
    "array_abs_freq = np.empty((numero_clases), dtype = int)\n",
    "\n",
    "'''\n",
    "def last_interval(array, interval):\n",
    "\tcounts = 0\n",
    "\tfor i in array:\n",
    "\t\tif np.float32(interval[0]) <= np.float32(i) <= np.float32(interval[1]):\n",
    "\t\t\tcounts += 1\n",
    "\treturn counts\n",
    "'''\n",
    "    \n",
    "def count_range_in_list(array, interval):\n",
    "\tcounts = 0\n",
    "\n",
    "\tfor i in array:\n",
    "\t\tif np.float32(i) != np.float32(array[-1]):\n",
    "\t\t\tif np.float32(interval[0]) <= np.float32(i) < np.float32(interval[1]):\n",
    "\t\t\t\tcounts += 1\n",
    "\t\telse:\n",
    "\t\t\tif np.float32(interval[0]) <= np.float32(i) <= np.float32(interval[1]):\n",
    "\t\t\t\tcounts += 1\n",
    "\n",
    "\treturn counts\n",
    "\n",
    "for i in range(numero_clases):\n",
    "\tarray_abs_freq[i] = count_range_in_list(df[df.columns[0]].values, array_classes[i])\n",
    "\n",
    "#array_abs_freq[-1] = last_interval(df[df.columns[0]].values, array_classes[-1])\n",
    "\n",
    "'''\n",
    "comparison = array_abs_freq == np.array(clases.values)\n",
    "equal_arrays = comparison.all()\n",
    "comparison\n",
    "'''\n",
    "\n",
    "print(array_abs_freq)"
   ]
  },
  {
   "cell_type": "code",
   "execution_count": 89,
   "metadata": {},
   "outputs": [
    {
     "data": {
      "text/html": [
       "<div>\n",
       "<style scoped>\n",
       "    .dataframe tbody tr th:only-of-type {\n",
       "        vertical-align: middle;\n",
       "    }\n",
       "\n",
       "    .dataframe tbody tr th {\n",
       "        vertical-align: top;\n",
       "    }\n",
       "\n",
       "    .dataframe thead th {\n",
       "        text-align: right;\n",
       "    }\n",
       "</style>\n",
       "<table border=\"1\" class=\"dataframe\">\n",
       "  <thead>\n",
       "    <tr style=\"text-align: right;\">\n",
       "      <th></th>\n",
       "      <th>Frecuencia absoluta</th>\n",
       "      <th>Frecuencia acumulada</th>\n",
       "      <th>Frecuencia relativa absoluta</th>\n",
       "      <th>Frecuencia relativa acumulada</th>\n",
       "      <th>Marca de clase</th>\n",
       "      <th>Porcentaje</th>\n",
       "    </tr>\n",
       "    <tr>\n",
       "      <th>MUJERES</th>\n",
       "      <th></th>\n",
       "      <th></th>\n",
       "      <th></th>\n",
       "      <th></th>\n",
       "      <th></th>\n",
       "      <th></th>\n",
       "    </tr>\n",
       "  </thead>\n",
       "  <tbody>\n",
       "    <tr>\n",
       "      <th>(43.174, 46.771]</th>\n",
       "      <td>2</td>\n",
       "      <td>2</td>\n",
       "      <td>0.057143</td>\n",
       "      <td>0.057143</td>\n",
       "      <td>44.9725</td>\n",
       "      <td>5.714286</td>\n",
       "    </tr>\n",
       "    <tr>\n",
       "      <th>(46.771, 50.343]</th>\n",
       "      <td>4</td>\n",
       "      <td>6</td>\n",
       "      <td>0.114286</td>\n",
       "      <td>0.171429</td>\n",
       "      <td>48.5570</td>\n",
       "      <td>11.428571</td>\n",
       "    </tr>\n",
       "    <tr>\n",
       "      <th>(50.343, 53.914]</th>\n",
       "      <td>7</td>\n",
       "      <td>13</td>\n",
       "      <td>0.200000</td>\n",
       "      <td>0.371429</td>\n",
       "      <td>52.1285</td>\n",
       "      <td>20.000000</td>\n",
       "    </tr>\n",
       "    <tr>\n",
       "      <th>(53.914, 57.486]</th>\n",
       "      <td>10</td>\n",
       "      <td>23</td>\n",
       "      <td>0.285714</td>\n",
       "      <td>0.657143</td>\n",
       "      <td>55.7000</td>\n",
       "      <td>28.571429</td>\n",
       "    </tr>\n",
       "    <tr>\n",
       "      <th>(57.486, 61.057]</th>\n",
       "      <td>5</td>\n",
       "      <td>28</td>\n",
       "      <td>0.142857</td>\n",
       "      <td>0.800000</td>\n",
       "      <td>59.2715</td>\n",
       "      <td>14.285714</td>\n",
       "    </tr>\n",
       "    <tr>\n",
       "      <th>(61.057, 64.629]</th>\n",
       "      <td>3</td>\n",
       "      <td>31</td>\n",
       "      <td>0.085714</td>\n",
       "      <td>0.885714</td>\n",
       "      <td>62.8430</td>\n",
       "      <td>8.571429</td>\n",
       "    </tr>\n",
       "    <tr>\n",
       "      <th>(64.629, 68.2]</th>\n",
       "      <td>4</td>\n",
       "      <td>35</td>\n",
       "      <td>0.114286</td>\n",
       "      <td>1.000000</td>\n",
       "      <td>66.4145</td>\n",
       "      <td>11.428571</td>\n",
       "    </tr>\n",
       "  </tbody>\n",
       "</table>\n",
       "</div>"
      ],
      "text/plain": [
       "                  Frecuencia absoluta  Frecuencia acumulada   \n",
       "MUJERES                                                       \n",
       "(43.174, 46.771]                    2                     2  \\\n",
       "(46.771, 50.343]                    4                     6   \n",
       "(50.343, 53.914]                    7                    13   \n",
       "(53.914, 57.486]                   10                    23   \n",
       "(57.486, 61.057]                    5                    28   \n",
       "(61.057, 64.629]                    3                    31   \n",
       "(64.629, 68.2]                      4                    35   \n",
       "\n",
       "                  Frecuencia relativa absoluta  Frecuencia relativa acumulada   \n",
       "MUJERES                                                                         \n",
       "(43.174, 46.771]                      0.057143                       0.057143  \\\n",
       "(46.771, 50.343]                      0.114286                       0.171429   \n",
       "(50.343, 53.914]                      0.200000                       0.371429   \n",
       "(53.914, 57.486]                      0.285714                       0.657143   \n",
       "(57.486, 61.057]                      0.142857                       0.800000   \n",
       "(61.057, 64.629]                      0.085714                       0.885714   \n",
       "(64.629, 68.2]                        0.114286                       1.000000   \n",
       "\n",
       "                  Marca de clase  Porcentaje  \n",
       "MUJERES                                       \n",
       "(43.174, 46.771]         44.9725    5.714286  \n",
       "(46.771, 50.343]         48.5570   11.428571  \n",
       "(50.343, 53.914]         52.1285   20.000000  \n",
       "(53.914, 57.486]         55.7000   28.571429  \n",
       "(57.486, 61.057]         59.2715   14.285714  \n",
       "(61.057, 64.629]         62.8430    8.571429  \n",
       "(64.629, 68.2]           66.4145   11.428571  "
      ]
     },
     "execution_count": 89,
     "metadata": {},
     "output_type": "execute_result"
    }
   ],
   "source": [
    "# Por terminar, marca de clase, f_i * x_i, ..., optimizar codigo\n",
    "nombre_columna = df.columns[0]\n",
    "clases = df[nombre_columna].value_counts(bins = numero_clases, sort = False)\n",
    "tabla_frecuencias = pd.DataFrame(clases)\n",
    "tabla_frecuencias.rename(columns = {'count':'Frecuencia absoluta'}, inplace = True)\n",
    "frecuencia_acumulada = []\n",
    "acumulador = 0\n",
    "\n",
    "# Columna: frecuencia acumulada\n",
    "for i in tabla_frecuencias.index:\n",
    "    acumulador = acumulador + tabla_frecuencias['Frecuencia absoluta'][i]\n",
    "    frecuencia_acumulada.append(acumulador)\n",
    "\n",
    "# Columnas: f. acumulada y f. relativa\n",
    "tabla_frecuencias['Frecuencia acumulada'] = frecuencia_acumulada\n",
    "tabla_frecuencias['Frecuencia relativa absoluta'] = tabla_frecuencias['Frecuencia absoluta'] / n\n",
    "\n",
    "# Arreglo de intervalos\n",
    "# \"[0-9]+.[0-9]+, [0-9]+.[0-9]+\"gm\n",
    "intervalos_str = []\n",
    "intervalos_float = []\n",
    "marca_clase = []\n",
    "\n",
    "clases_lista = clases.index\n",
    "\n",
    "for i in clases_lista:\n",
    "    matched = re.search(\"[0-9]+.[0-9]+, [0-9]+.[0-9]+\", str(i))\n",
    "    intervalos_str.append(matched.group())\n",
    "    \n",
    "for i in intervalos_str:\n",
    "    intervalos_float.append(i.split(', '))\n",
    "\n",
    "for i in intervalos_float:\n",
    "    for j in i:\n",
    "        j = float(j)\n",
    "\n",
    "intervalos_float = np.array(intervalos_float, dtype = float)\n",
    "\n",
    "for i in intervalos_float:\n",
    "    marca_clase.append(np.sum(i) / 2)\n",
    "\n",
    "# Columna: frecuencia acumulada relativa\n",
    "tabla_frecuencias['Frecuencia relativa acumulada'] = tabla_frecuencias['Frecuencia acumulada'] / n\n",
    "\n",
    "# Columna: marca de clase\n",
    "tabla_frecuencias['Marca de clase'] = marca_clase\n",
    "\n",
    "# Columna: porcentaje\n",
    "tabla_frecuencias['Porcentaje'] = tabla_frecuencias['Frecuencia relativa absoluta'] * 100\n",
    "\n",
    "tabla_frecuencias"
   ]
  },
  {
   "cell_type": "code",
   "execution_count": 95,
   "metadata": {},
   "outputs": [
    {
     "data": {
      "text/plain": [
       "IntervalIndex([(43.174, 46.771], (46.771, 50.343], (50.343, 53.914], (53.914, 57.486], (57.486, 61.057], (61.057, 64.629], (64.629, 68.2]], dtype='interval[float64, right]', name='MUJERES')"
      ]
     },
     "execution_count": 95,
     "metadata": {},
     "output_type": "execute_result"
    }
   ],
   "source": [
    "tabla_frecuencias.index"
   ]
  },
  {
   "cell_type": "code",
   "execution_count": 90,
   "metadata": {},
   "outputs": [],
   "source": [
    "tabla_frecuencias.to_csv('tabla_frecuencias_' + df.columns[0] + '.csv')"
   ]
  },
  {
   "attachments": {},
   "cell_type": "markdown",
   "metadata": {},
   "source": [
    "#### Funciones test"
   ]
  },
  {
   "cell_type": "code",
   "execution_count": 91,
   "metadata": {},
   "outputs": [
    {
     "name": "stderr",
     "output_type": "stream",
     "text": [
      "/tmp/ipykernel_1909/349951850.py:8: FutureWarning: Calling float on a single element Series is deprecated and will raise a TypeError in the future. Use float(ser.iloc[0]) instead\n",
      "  medidas_arreglo = [media_agrupada, float(mediana_agrupada), float(moda_agrupada), varianza_agrupada, rango_agrupado, float(df.max() - df.min())]\n"
     ]
    },
    {
     "data": {
      "text/html": [
       "<div>\n",
       "<style scoped>\n",
       "    .dataframe tbody tr th:only-of-type {\n",
       "        vertical-align: middle;\n",
       "    }\n",
       "\n",
       "    .dataframe tbody tr th {\n",
       "        vertical-align: top;\n",
       "    }\n",
       "\n",
       "    .dataframe thead th {\n",
       "        text-align: right;\n",
       "    }\n",
       "</style>\n",
       "<table border=\"1\" class=\"dataframe\">\n",
       "  <thead>\n",
       "    <tr style=\"text-align: right;\">\n",
       "      <th></th>\n",
       "      <th>Medidas de tendencia central: mujeres</th>\n",
       "    </tr>\n",
       "  </thead>\n",
       "  <tbody>\n",
       "    <tr>\n",
       "      <th>Media</th>\n",
       "      <td>55.903343</td>\n",
       "    </tr>\n",
       "    <tr>\n",
       "      <th>Mediana</th>\n",
       "      <td>55.521143</td>\n",
       "    </tr>\n",
       "    <tr>\n",
       "      <th>Moda</th>\n",
       "      <td>55.253286</td>\n",
       "    </tr>\n",
       "    <tr>\n",
       "      <th>Varianza</th>\n",
       "      <td>35.239349</td>\n",
       "    </tr>\n",
       "    <tr>\n",
       "      <th>Rango</th>\n",
       "      <td>21.442000</td>\n",
       "    </tr>\n",
       "    <tr>\n",
       "      <th>Rango real</th>\n",
       "      <td>25.000000</td>\n",
       "    </tr>\n",
       "  </tbody>\n",
       "</table>\n",
       "</div>"
      ],
      "text/plain": [
       "            Medidas de tendencia central: mujeres\n",
       "Media                                   55.903343\n",
       "Mediana                                 55.521143\n",
       "Moda                                    55.253286\n",
       "Varianza                                35.239349\n",
       "Rango                                   21.442000\n",
       "Rango real                              25.000000"
      ]
     },
     "execution_count": 91,
     "metadata": {},
     "output_type": "execute_result"
    }
   ],
   "source": [
    "rango_agrupado = rango_agrupado(tabla_frecuencias)\n",
    "moda_clase = moda_clase(tabla_frecuencias)\n",
    "moda_agrupada = moda_agrupada(moda_clase, amplitud, tabla_frecuencias, intervalos_float)\n",
    "mediana_clase = mediana_clase(n, tabla_frecuencias)\n",
    "mediana_agrupada = mediana_agrupada(mediana_clase, amplitud, tabla_frecuencias, intervalos_float)\n",
    "media_agrupada = media_agrupada(tabla_frecuencias, n)\n",
    "varianza_agrupada = varianza_agrupada(tabla_frecuencias, n, media_agrupada)\n",
    "medidas_arreglo = [media_agrupada, float(mediana_agrupada), float(moda_agrupada), varianza_agrupada, rango_agrupado, float(df.max() - df.min())]\n",
    "#python_arreglo = [df.columns[0].mean(), df.columns[0].median(), df.columns[0].mode().iloc[0], df.columns[0].var(ddof = 1), 0]\n",
    "\n",
    "medidas_funciones = pd.DataFrame(medidas_arreglo, columns = ['Medidas de tendencia central: ' + df.columns[0].lower()], index = ['Media', 'Mediana', 'Moda', 'Varianza', 'Rango', 'Rango real'])\n",
    "#medidas_python = pd.DataFrame(python_arreglo, columns = ['Valor real'])\n",
    "\n",
    "medidas_funciones"
   ]
  },
  {
   "cell_type": "code",
   "execution_count": 92,
   "metadata": {},
   "outputs": [],
   "source": [
    "medidas_funciones.to_csv('tabla_resultados_' + df.columns[0] + '.csv')"
   ]
  },
  {
   "cell_type": "code",
   "execution_count": 93,
   "metadata": {},
   "outputs": [
    {
     "data": {
      "text/plain": [
       "MUJERES    36.948689\n",
       "dtype: float64"
      ]
     },
     "execution_count": 93,
     "metadata": {},
     "output_type": "execute_result"
    }
   ],
   "source": [
    "df.var(ddof = 1)"
   ]
  },
  {
   "cell_type": "code",
   "execution_count": 94,
   "metadata": {},
   "outputs": [
    {
     "data": {
      "text/html": [
       "<div>\n",
       "<style scoped>\n",
       "    .dataframe tbody tr th:only-of-type {\n",
       "        vertical-align: middle;\n",
       "    }\n",
       "\n",
       "    .dataframe tbody tr th {\n",
       "        vertical-align: top;\n",
       "    }\n",
       "\n",
       "    .dataframe thead th {\n",
       "        text-align: right;\n",
       "    }\n",
       "</style>\n",
       "<table border=\"1\" class=\"dataframe\">\n",
       "  <thead>\n",
       "    <tr style=\"text-align: right;\">\n",
       "      <th></th>\n",
       "      <th>MUJERES</th>\n",
       "    </tr>\n",
       "  </thead>\n",
       "  <tbody>\n",
       "    <tr>\n",
       "      <th>count</th>\n",
       "      <td>35.000000</td>\n",
       "    </tr>\n",
       "    <tr>\n",
       "      <th>mean</th>\n",
       "      <td>56.268571</td>\n",
       "    </tr>\n",
       "    <tr>\n",
       "      <th>std</th>\n",
       "      <td>6.078543</td>\n",
       "    </tr>\n",
       "    <tr>\n",
       "      <th>min</th>\n",
       "      <td>43.200000</td>\n",
       "    </tr>\n",
       "    <tr>\n",
       "      <th>25%</th>\n",
       "      <td>52.500000</td>\n",
       "    </tr>\n",
       "    <tr>\n",
       "      <th>50%</th>\n",
       "      <td>55.500000</td>\n",
       "    </tr>\n",
       "    <tr>\n",
       "      <th>75%</th>\n",
       "      <td>59.300000</td>\n",
       "    </tr>\n",
       "    <tr>\n",
       "      <th>max</th>\n",
       "      <td>68.200000</td>\n",
       "    </tr>\n",
       "  </tbody>\n",
       "</table>\n",
       "</div>"
      ],
      "text/plain": [
       "         MUJERES\n",
       "count  35.000000\n",
       "mean   56.268571\n",
       "std     6.078543\n",
       "min    43.200000\n",
       "25%    52.500000\n",
       "50%    55.500000\n",
       "75%    59.300000\n",
       "max    68.200000"
      ]
     },
     "execution_count": 94,
     "metadata": {},
     "output_type": "execute_result"
    }
   ],
   "source": [
    "df.describe()"
   ]
  }
 ],
 "metadata": {
  "kernelspec": {
   "display_name": "Python 3",
   "language": "python",
   "name": "python3"
  },
  "language_info": {
   "codemirror_mode": {
    "name": "ipython",
    "version": 3
   },
   "file_extension": ".py",
   "mimetype": "text/x-python",
   "name": "python",
   "nbconvert_exporter": "python",
   "pygments_lexer": "ipython3",
   "version": "3.10.6"
  },
  "orig_nbformat": 4
 },
 "nbformat": 4,
 "nbformat_minor": 2
}
