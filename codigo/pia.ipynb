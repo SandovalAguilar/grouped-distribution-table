{
 "cells": [
  {
   "cell_type": "code",
   "execution_count": 735,
   "metadata": {},
   "outputs": [],
   "source": [
    "# Librerias\n",
    "import pandas as pd\n",
    "import numpy as np\n",
    "import matplotlib.pyplot as plt\n",
    "import stemgraphic as sg\n",
    "import re\n",
    "from array import array"
   ]
  },
  {
   "cell_type": "code",
   "execution_count": 736,
   "metadata": {},
   "outputs": [
    {
     "data": {
      "text/html": [
       "<div>\n",
       "<style scoped>\n",
       "    .dataframe tbody tr th:only-of-type {\n",
       "        vertical-align: middle;\n",
       "    }\n",
       "\n",
       "    .dataframe tbody tr th {\n",
       "        vertical-align: top;\n",
       "    }\n",
       "\n",
       "    .dataframe thead th {\n",
       "        text-align: right;\n",
       "    }\n",
       "</style>\n",
       "<table border=\"1\" class=\"dataframe\">\n",
       "  <thead>\n",
       "    <tr style=\"text-align: right;\">\n",
       "      <th></th>\n",
       "      <th>MUJERES</th>\n",
       "    </tr>\n",
       "  </thead>\n",
       "  <tbody>\n",
       "    <tr>\n",
       "      <th>0</th>\n",
       "      <td>63.6</td>\n",
       "    </tr>\n",
       "    <tr>\n",
       "      <th>1</th>\n",
       "      <td>54.5</td>\n",
       "    </tr>\n",
       "    <tr>\n",
       "      <th>2</th>\n",
       "      <td>59.1</td>\n",
       "    </tr>\n",
       "    <tr>\n",
       "      <th>3</th>\n",
       "      <td>62.7</td>\n",
       "    </tr>\n",
       "    <tr>\n",
       "      <th>4</th>\n",
       "      <td>55.0</td>\n",
       "    </tr>\n",
       "  </tbody>\n",
       "</table>\n",
       "</div>"
      ],
      "text/plain": [
       "   MUJERES\n",
       "0     63.6\n",
       "1     54.5\n",
       "2     59.1\n",
       "3     62.7\n",
       "4     55.0"
      ]
     },
     "execution_count": 736,
     "metadata": {},
     "output_type": "execute_result"
    }
   ],
   "source": [
    "# Dataset\n",
    "#df = pd.read_csv('hombres.csv')\n",
    "df = pd.read_csv('mujeres.csv')\n",
    "df.head()"
   ]
  },
  {
   "attachments": {},
   "cell_type": "markdown",
   "metadata": {},
   "source": [
    "#### Por hacer\n",
    "- ✅ Crear una funcion para obtener la media de datos agrupados\n",
    "- ✅ Crear una funcion para obtener la moda de datos agrupados\n",
    "- ✅ Crear una funcion para obtener la mediana de datos agrupados\n",
    "- ✅ Crear una funcion para obtener la varianza de datos agrupados\n",
    "- ✅ Crear una funcion para obtener el rango de datos agrupados\n",
    "- ✅ Crear diagrama de tallos y hojas (¿hacer en excel?)\n",
    "- ✅ Crear diagrama de puntos \n",
    "- Crear tabla de datos agrupados \n",
    "- Comparar ambas tablas\n",
    "- Crear script\n",
    "- Documento PDF"
   ]
  },
  {
   "attachments": {},
   "cell_type": "markdown",
   "metadata": {},
   "source": [
    "#### Variables globales"
   ]
  },
  {
   "cell_type": "code",
   "execution_count": 737,
   "metadata": {},
   "outputs": [
    {
     "data": {
      "text/plain": [
       "35"
      ]
     },
     "execution_count": 737,
     "metadata": {},
     "output_type": "execute_result"
    }
   ],
   "source": [
    "# Rango y numero de elementos\n",
    "rango = df.max() - df.min()\n",
    "n = df.shape[0]\n",
    "\n",
    "nombre_columna = df.columns[0]\n",
    "\n",
    "# Numero de clases\n",
    "if n < 30:\n",
    "    numero_clases = int(np.ceil(np.sqrt(n)))\n",
    "else:\n",
    "    numero_clases = int(np.ceil(1 + (3.322 * np.log10(n))))\n",
    "\n",
    "# Amplitud\n",
    "amplitud = rango / numero_clases\n",
    "n"
   ]
  },
  {
   "attachments": {},
   "cell_type": "markdown",
   "metadata": {},
   "source": [
    "#### Funciones por hacer"
   ]
  },
  {
   "cell_type": "code",
   "execution_count": 738,
   "metadata": {},
   "outputs": [],
   "source": [
    "# Funcion para obtener la media\n",
    "def media_agrupada(tabla_frecuencias, n):\n",
    "    tabla_frecuencias['x_i * f_i'] = tabla_frecuencias['Marca de clase'] * tabla_frecuencias['Frecuencia absoluta']\n",
    "    sum_xifi = float(tabla_frecuencias['x_i * f_i'].sum())\n",
    "    media_agrupada = sum_xifi / n\n",
    "    return media_agrupada"
   ]
  },
  {
   "cell_type": "code",
   "execution_count": 739,
   "metadata": {},
   "outputs": [],
   "source": [
    "# Funcion para obtener la clase a la que pertenece la moda\n",
    "def moda_clase(tabla_frecuencias):\n",
    "    clase = 0\n",
    "    frecuencia_mayor = tabla_frecuencias['Frecuencia absoluta'].max()\n",
    "\n",
    "    for i in tabla_frecuencias['Frecuencia absoluta']:\n",
    "            clase += 1\n",
    "            if i == frecuencia_mayor:\n",
    "                return clase\n",
    "\n",
    "# Funcion para obtener la moda\n",
    "def moda_agrupada(moda_clase, amplitud, tabla_frecuencias, intervalos_float):\n",
    "    limite_inferior = min(intervalos_float[moda_clase - 1]) \n",
    "    delta_1 = tabla_frecuencias['Frecuencia absoluta'].iloc[moda_clase - 1] - tabla_frecuencias['Frecuencia absoluta'].iloc[moda_clase - 2]\n",
    "    delta_2 = tabla_frecuencias['Frecuencia absoluta'].iloc[moda_clase - 1] - tabla_frecuencias['Frecuencia absoluta'].iloc[moda_clase]\n",
    "    moda_agrupada = limite_inferior + ((delta_1) / (delta_1 + delta_2)) * amplitud\n",
    "    return moda_agrupada"
   ]
  },
  {
   "cell_type": "code",
   "execution_count": 740,
   "metadata": {},
   "outputs": [],
   "source": [
    "# Funcion para la posicion de la clase en la que se encuentra la mediana\n",
    "def mediana_clase(n, tabla_frecuencias):\n",
    "    posicion = (n + 1) / 2\n",
    "    clase = 0\n",
    "\n",
    "    for i in tabla_frecuencias['Frecuencia acumulada']:\n",
    "        clase += 1\n",
    "        if i >= posicion:\n",
    "            #clase_mediana = tabla_frecuencias[tabla_frecuencias['Frecuencia acumulada']== i].index.values\n",
    "            return clase\n",
    "\n",
    "# Funcion para obtener la mediana\n",
    "def mediana_agrupada(mediana_clase, amplitud, tabla_frecuencias, intervalos_float):\n",
    "    limite_inferior = min(intervalos_float[mediana_clase - 1]) \n",
    "    frec_acum_anterior = tabla_frecuencias['Frecuencia acumulada'].iloc[mediana_clase - 2]\n",
    "    frec_absoluta = tabla_frecuencias['Frecuencia absoluta'].iloc[mediana_clase -1]\n",
    "    mediana_agrupada = limite_inferior + (((n / 2) - frec_acum_anterior) / frec_absoluta ) * amplitud\n",
    "\n",
    "    return mediana_agrupada"
   ]
  },
  {
   "cell_type": "code",
   "execution_count": 741,
   "metadata": {},
   "outputs": [],
   "source": [
    "# Funcion para obtener la varianza\n",
    "def varianza_agrupada(tabla_frecuencias, n, media_agrupada):\n",
    "    tabla_frecuencias['(x_i - \\mu)^2'] = ((tabla_frecuencias['Marca de clase'] - media_agrupada) ** 2)\n",
    "    tabla_frecuencias['(x_i - \\mu)^2 * f_i'] = tabla_frecuencias['(x_i - \\mu)^2'] * tabla_frecuencias['Frecuencia absoluta']\n",
    "    sumatoria = tabla_frecuencias['(x_i - \\mu)^2 * f_i'].sum()\n",
    "    varianza_agrupada = (sumatoria) / (n - 1)\n",
    "    return varianza_agrupada"
   ]
  },
  {
   "cell_type": "code",
   "execution_count": 742,
   "metadata": {},
   "outputs": [],
   "source": [
    "# Funcion para obtener el rango\n",
    "def rango_agrupado(tabla_frecuencias):\n",
    "    rango = tabla_frecuencias['Marca de clase'].max() - tabla_frecuencias['Marca de clase'].min()\n",
    "    return rango"
   ]
  },
  {
   "attachments": {},
   "cell_type": "markdown",
   "metadata": {},
   "source": [
    "#### Grafica de tallo y hoja"
   ]
  },
  {
   "cell_type": "code",
   "execution_count": 743,
   "metadata": {},
   "outputs": [
    {
     "data": {
      "image/png": "[encoded data removed]",
      "text/plain": [
       "<Figure size 750x225 with 1 Axes>"
      ]
     },
     "metadata": {},
     "output_type": "display_data"
    }
   ],
   "source": [
    "# Genera la grafica de tallo y hoja\n",
    "# Arreglo con los valores\n",
    "test_array = df[nombre_columna].to_numpy()\n",
    "fig, test_array = sg.stem_graphic(test_array)"
   ]
  },
  {
   "attachments": {},
   "cell_type": "markdown",
   "metadata": {},
   "source": [
    "#### Diagrama de puntos"
   ]
  },
  {
   "cell_type": "code",
   "execution_count": 744,
   "metadata": {},
   "outputs": [],
   "source": [
    "# Funcion para generar el diagrama de puntos\n",
    "def dotplot(input_x, **args):\n",
    "\n",
    "    # Count how many times does each value occur\n",
    "    unique_values, counts = np.unique(input_x, return_counts = True)\n",
    "    \n",
    "    # Convert 1D input into 2D array\n",
    "    scatter_x = [] # x values \n",
    "    scatter_y = [] # corresponding y values\n",
    "    for idx, value in enumerate(unique_values):\n",
    "        for counter in range(1, counts[idx]+1):\n",
    "            scatter_x.append(value)\n",
    "            scatter_y.append(counter)\n",
    "\n",
    "    # draw dot plot using scatter() \n",
    "    plt.scatter(scatter_x, scatter_y, s = 10, c = \"#000000\", **args)\n",
    "    \n",
    "    # Optional - show all unique values on x-axis. \n",
    "    # Matplotlib might hide some of them  \n",
    "    # plt.gca().set_xticks(unique_values)\n",
    "\n",
    "    plt.autoscale(enable=True, axis='x', tight=False)"
   ]
  },
  {
   "cell_type": "code",
   "execution_count": 745,
   "metadata": {},
   "outputs": [
    {
     "data": {
      "image/png": "[encoded data removed]",
      "text/plain": [
       "<Figure size 640x480 with 1 Axes>"
      ]
     },
     "metadata": {},
     "output_type": "display_data"
    }
   ],
   "source": [
    "# Genera diagrama\n",
    "test_array = df[nombre_columna].to_numpy()\n",
    "dotplot(input_x = test_array)"
   ]
  },
  {
   "attachments": {},
   "cell_type": "markdown",
   "metadata": {},
   "source": [
    "#### Tabla de datos agrupados"
   ]
  },
  {
   "cell_type": "code",
   "execution_count": 746,
   "metadata": {},
   "outputs": [
    {
     "data": {
      "text/html": [
       "<div>\n",
       "<style scoped>\n",
       "    .dataframe tbody tr th:only-of-type {\n",
       "        vertical-align: middle;\n",
       "    }\n",
       "\n",
       "    .dataframe tbody tr th {\n",
       "        vertical-align: top;\n",
       "    }\n",
       "\n",
       "    .dataframe thead th {\n",
       "        text-align: right;\n",
       "    }\n",
       "</style>\n",
       "<table border=\"1\" class=\"dataframe\">\n",
       "  <thead>\n",
       "    <tr style=\"text-align: right;\">\n",
       "      <th></th>\n",
       "      <th>Frecuencia absoluta</th>\n",
       "      <th>Frecuencia absoluta relativa</th>\n",
       "      <th>Frecuencia acumulada</th>\n",
       "      <th>Frecuencia acumulada relativa</th>\n",
       "      <th>Marca de clase</th>\n",
       "    </tr>\n",
       "    <tr>\n",
       "      <th>MUJERES</th>\n",
       "      <th></th>\n",
       "      <th></th>\n",
       "      <th></th>\n",
       "      <th></th>\n",
       "      <th></th>\n",
       "    </tr>\n",
       "  </thead>\n",
       "  <tbody>\n",
       "    <tr>\n",
       "      <th>(43.174, 46.771]</th>\n",
       "      <td>2</td>\n",
       "      <td>0.057143</td>\n",
       "      <td>2</td>\n",
       "      <td>0.057143</td>\n",
       "      <td>44.9725</td>\n",
       "    </tr>\n",
       "    <tr>\n",
       "      <th>(46.771, 50.343]</th>\n",
       "      <td>4</td>\n",
       "      <td>0.114286</td>\n",
       "      <td>6</td>\n",
       "      <td>0.171429</td>\n",
       "      <td>48.5570</td>\n",
       "    </tr>\n",
       "    <tr>\n",
       "      <th>(50.343, 53.914]</th>\n",
       "      <td>7</td>\n",
       "      <td>0.200000</td>\n",
       "      <td>13</td>\n",
       "      <td>0.371429</td>\n",
       "      <td>52.1285</td>\n",
       "    </tr>\n",
       "    <tr>\n",
       "      <th>(53.914, 57.486]</th>\n",
       "      <td>10</td>\n",
       "      <td>0.285714</td>\n",
       "      <td>23</td>\n",
       "      <td>0.657143</td>\n",
       "      <td>55.7000</td>\n",
       "    </tr>\n",
       "    <tr>\n",
       "      <th>(57.486, 61.057]</th>\n",
       "      <td>5</td>\n",
       "      <td>0.142857</td>\n",
       "      <td>28</td>\n",
       "      <td>0.800000</td>\n",
       "      <td>59.2715</td>\n",
       "    </tr>\n",
       "    <tr>\n",
       "      <th>(61.057, 64.629]</th>\n",
       "      <td>3</td>\n",
       "      <td>0.085714</td>\n",
       "      <td>31</td>\n",
       "      <td>0.885714</td>\n",
       "      <td>62.8430</td>\n",
       "    </tr>\n",
       "    <tr>\n",
       "      <th>(64.629, 68.2]</th>\n",
       "      <td>4</td>\n",
       "      <td>0.114286</td>\n",
       "      <td>35</td>\n",
       "      <td>1.000000</td>\n",
       "      <td>66.4145</td>\n",
       "    </tr>\n",
       "  </tbody>\n",
       "</table>\n",
       "</div>"
      ],
      "text/plain": [
       "                  Frecuencia absoluta  Frecuencia absoluta relativa   \n",
       "MUJERES                                                               \n",
       "(43.174, 46.771]                    2                      0.057143  \\\n",
       "(46.771, 50.343]                    4                      0.114286   \n",
       "(50.343, 53.914]                    7                      0.200000   \n",
       "(53.914, 57.486]                   10                      0.285714   \n",
       "(57.486, 61.057]                    5                      0.142857   \n",
       "(61.057, 64.629]                    3                      0.085714   \n",
       "(64.629, 68.2]                      4                      0.114286   \n",
       "\n",
       "                  Frecuencia acumulada  Frecuencia acumulada relativa   \n",
       "MUJERES                                                                 \n",
       "(43.174, 46.771]                     2                       0.057143  \\\n",
       "(46.771, 50.343]                     6                       0.171429   \n",
       "(50.343, 53.914]                    13                       0.371429   \n",
       "(53.914, 57.486]                    23                       0.657143   \n",
       "(57.486, 61.057]                    28                       0.800000   \n",
       "(61.057, 64.629]                    31                       0.885714   \n",
       "(64.629, 68.2]                      35                       1.000000   \n",
       "\n",
       "                  Marca de clase  \n",
       "MUJERES                           \n",
       "(43.174, 46.771]         44.9725  \n",
       "(46.771, 50.343]         48.5570  \n",
       "(50.343, 53.914]         52.1285  \n",
       "(53.914, 57.486]         55.7000  \n",
       "(57.486, 61.057]         59.2715  \n",
       "(61.057, 64.629]         62.8430  \n",
       "(64.629, 68.2]           66.4145  "
      ]
     },
     "execution_count": 746,
     "metadata": {},
     "output_type": "execute_result"
    }
   ],
   "source": [
    "# Por terminar, marca de clase, f_i * x_i, ..., optimizar codigo\n",
    "nombre_columna = df.columns[0]\n",
    "clases = df[nombre_columna].value_counts(bins = numero_clases, sort = False)\n",
    "tabla_frecuencias = pd.DataFrame(clases)\n",
    "tabla_frecuencias.rename(columns = {'count':'Frecuencia absoluta'}, inplace = True)\n",
    "frecuencia_acumulada = []\n",
    "acumulador = 0\n",
    "\n",
    "# Columna: frecuencia absoluta relativa\n",
    "tabla_frecuencias['Frecuencia absoluta relativa'] = tabla_frecuencias['Frecuencia absoluta'] / n\n",
    "\n",
    "# Columna: frecuencia acumulada\n",
    "for i in tabla_frecuencias.index:\n",
    "    acumulador = acumulador + tabla_frecuencias['Frecuencia absoluta'][i]\n",
    "    frecuencia_acumulada.append(acumulador)\n",
    "\n",
    "# Columnas: f. acumulada \n",
    "tabla_frecuencias['Frecuencia acumulada'] = frecuencia_acumulada\n",
    "\n",
    "# Columna: frecuencia acumulada relativa\n",
    "tabla_frecuencias['Frecuencia acumulada relativa'] = tabla_frecuencias['Frecuencia acumulada'] / n\n",
    "\n",
    "# Arreglo de intervalos\n",
    "# \"[0-9]+.[0-9]+, [0-9]+.[0-9]+\"gm\n",
    "intervalos_str = []\n",
    "intervalos_float = []\n",
    "marca_clase = []\n",
    "\n",
    "clases_lista = clases.index\n",
    "\n",
    "for i in clases_lista:\n",
    "    matched = re.search(\"[0-9]+.[0-9]+, [0-9]+.[0-9]+\", str(i))\n",
    "    intervalos_str.append(matched.group())\n",
    "    \n",
    "for i in intervalos_str:\n",
    "    intervalos_float.append(i.split(', '))\n",
    "\n",
    "for i in intervalos_float:\n",
    "    for j in i:\n",
    "        j = float(j)\n",
    "\n",
    "intervalos_float = np.array(intervalos_float, dtype = float)\n",
    "\n",
    "for i in intervalos_float:\n",
    "    marca_clase.append(np.sum(i) / 2)\n",
    "\n",
    "# Columna: marca de clase\n",
    "tabla_frecuencias['Marca de clase'] = marca_clase\n",
    "\n",
    "tabla_frecuencias"
   ]
  },
  {
   "attachments": {},
   "cell_type": "markdown",
   "metadata": {},
   "source": [
    "#### Funciones test"
   ]
  },
  {
   "cell_type": "code",
   "execution_count": 747,
   "metadata": {},
   "outputs": [
    {
     "data": {
      "text/plain": [
       "21.442000000000007"
      ]
     },
     "execution_count": 747,
     "metadata": {},
     "output_type": "execute_result"
    }
   ],
   "source": [
    "rango_agrupado = rango_agrupado(tabla_frecuencias)\n",
    "rango_agrupado"
   ]
  },
  {
   "cell_type": "code",
   "execution_count": 748,
   "metadata": {},
   "outputs": [
    {
     "data": {
      "text/plain": [
       "MUJERES    55.253286\n",
       "dtype: float64"
      ]
     },
     "execution_count": 748,
     "metadata": {},
     "output_type": "execute_result"
    }
   ],
   "source": [
    "moda_clase = moda_clase(tabla_frecuencias)\n",
    "moda_agrupada = moda_agrupada(moda_clase, amplitud, tabla_frecuencias, intervalos_float)\n",
    "moda_agrupada"
   ]
  },
  {
   "cell_type": "code",
   "execution_count": 749,
   "metadata": {},
   "outputs": [
    {
     "data": {
      "text/html": [
       "<div>\n",
       "<style scoped>\n",
       "    .dataframe tbody tr th:only-of-type {\n",
       "        vertical-align: middle;\n",
       "    }\n",
       "\n",
       "    .dataframe tbody tr th {\n",
       "        vertical-align: top;\n",
       "    }\n",
       "\n",
       "    .dataframe thead th {\n",
       "        text-align: right;\n",
       "    }\n",
       "</style>\n",
       "<table border=\"1\" class=\"dataframe\">\n",
       "  <thead>\n",
       "    <tr style=\"text-align: right;\">\n",
       "      <th></th>\n",
       "      <th>MUJERES</th>\n",
       "    </tr>\n",
       "  </thead>\n",
       "  <tbody>\n",
       "    <tr>\n",
       "      <th>0</th>\n",
       "      <td>56.8</td>\n",
       "    </tr>\n",
       "  </tbody>\n",
       "</table>\n",
       "</div>"
      ],
      "text/plain": [
       "   MUJERES\n",
       "0     56.8"
      ]
     },
     "execution_count": 749,
     "metadata": {},
     "output_type": "execute_result"
    }
   ],
   "source": [
    "df.mode()"
   ]
  },
  {
   "cell_type": "code",
   "execution_count": 750,
   "metadata": {},
   "outputs": [
    {
     "data": {
      "text/plain": [
       "MUJERES    55.521143\n",
       "dtype: float64"
      ]
     },
     "execution_count": 750,
     "metadata": {},
     "output_type": "execute_result"
    }
   ],
   "source": [
    "mediana_clase = int(mediana_clase(n, tabla_frecuencias))\n",
    "mediana_agrupada = mediana_agrupada(mediana_clase, amplitud, tabla_frecuencias, intervalos_float)\n",
    "mediana_agrupada"
   ]
  },
  {
   "cell_type": "code",
   "execution_count": 751,
   "metadata": {},
   "outputs": [
    {
     "data": {
      "text/plain": [
       "MUJERES    55.5\n",
       "dtype: float64"
      ]
     },
     "execution_count": 751,
     "metadata": {},
     "output_type": "execute_result"
    }
   ],
   "source": [
    "df.median()"
   ]
  },
  {
   "cell_type": "code",
   "execution_count": 752,
   "metadata": {},
   "outputs": [
    {
     "data": {
      "text/plain": [
       "55.90334285714286"
      ]
     },
     "execution_count": 752,
     "metadata": {},
     "output_type": "execute_result"
    }
   ],
   "source": [
    "# Media agrupada\n",
    "#sum_xifi = float(tabla_frecuencias['x_i * f_i'].sum())\n",
    "media_agrupada = media_agrupada(tabla_frecuencias, n)\n",
    "media_agrupada"
   ]
  },
  {
   "cell_type": "code",
   "execution_count": 753,
   "metadata": {},
   "outputs": [
    {
     "data": {
      "text/plain": [
       "35.23934859957984"
      ]
     },
     "execution_count": 753,
     "metadata": {},
     "output_type": "execute_result"
    }
   ],
   "source": [
    "# Varianza agrupada\n",
    "varianza_agrupada = varianza_agrupada(tabla_frecuencias, n, media_agrupada)\n",
    "np.sqrt(varianza_agrupada)\n",
    "varianza_agrupada"
   ]
  },
  {
   "cell_type": "code",
   "execution_count": 754,
   "metadata": {},
   "outputs": [
    {
     "data": {
      "text/plain": [
       "MUJERES    36.948689\n",
       "dtype: float64"
      ]
     },
     "execution_count": 754,
     "metadata": {},
     "output_type": "execute_result"
    }
   ],
   "source": [
    "df.var(ddof = 1)"
   ]
  },
  {
   "cell_type": "code",
   "execution_count": 755,
   "metadata": {},
   "outputs": [
    {
     "data": {
      "text/html": [
       "<div>\n",
       "<style scoped>\n",
       "    .dataframe tbody tr th:only-of-type {\n",
       "        vertical-align: middle;\n",
       "    }\n",
       "\n",
       "    .dataframe tbody tr th {\n",
       "        vertical-align: top;\n",
       "    }\n",
       "\n",
       "    .dataframe thead th {\n",
       "        text-align: right;\n",
       "    }\n",
       "</style>\n",
       "<table border=\"1\" class=\"dataframe\">\n",
       "  <thead>\n",
       "    <tr style=\"text-align: right;\">\n",
       "      <th></th>\n",
       "      <th>MUJERES</th>\n",
       "    </tr>\n",
       "  </thead>\n",
       "  <tbody>\n",
       "    <tr>\n",
       "      <th>count</th>\n",
       "      <td>35.000000</td>\n",
       "    </tr>\n",
       "    <tr>\n",
       "      <th>mean</th>\n",
       "      <td>56.268571</td>\n",
       "    </tr>\n",
       "    <tr>\n",
       "      <th>std</th>\n",
       "      <td>6.078543</td>\n",
       "    </tr>\n",
       "    <tr>\n",
       "      <th>min</th>\n",
       "      <td>43.200000</td>\n",
       "    </tr>\n",
       "    <tr>\n",
       "      <th>25%</th>\n",
       "      <td>52.500000</td>\n",
       "    </tr>\n",
       "    <tr>\n",
       "      <th>50%</th>\n",
       "      <td>55.500000</td>\n",
       "    </tr>\n",
       "    <tr>\n",
       "      <th>75%</th>\n",
       "      <td>59.300000</td>\n",
       "    </tr>\n",
       "    <tr>\n",
       "      <th>max</th>\n",
       "      <td>68.200000</td>\n",
       "    </tr>\n",
       "  </tbody>\n",
       "</table>\n",
       "</div>"
      ],
      "text/plain": [
       "         MUJERES\n",
       "count  35.000000\n",
       "mean   56.268571\n",
       "std     6.078543\n",
       "min    43.200000\n",
       "25%    52.500000\n",
       "50%    55.500000\n",
       "75%    59.300000\n",
       "max    68.200000"
      ]
     },
     "execution_count": 755,
     "metadata": {},
     "output_type": "execute_result"
    }
   ],
   "source": [
    "df.describe()"
   ]
  }
 ],
 "metadata": {
  "kernelspec": {
   "display_name": "Python 3",
   "language": "python",
   "name": "python3"
  },
  "language_info": {
   "codemirror_mode": {
    "name": "ipython",
    "version": 3
   },
   "file_extension": ".py",
   "mimetype": "text/x-python",
   "name": "python",
   "nbconvert_exporter": "python",
   "pygments_lexer": "ipython3",
   "version": "3.10.6"
  },
  "orig_nbformat": 4
 },
 "nbformat": 4,
 "nbformat_minor": 2
}
